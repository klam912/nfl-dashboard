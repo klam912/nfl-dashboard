{
 "cells": [
  {
   "cell_type": "markdown",
   "metadata": {},
   "source": [
    "## Exploratory analysis of the datasets"
   ]
  },
  {
   "cell_type": "code",
   "execution_count": 1,
   "metadata": {},
   "outputs": [],
   "source": [
    "import pandas as pd\n",
    "import numpy as np "
   ]
  },
  {
   "cell_type": "markdown",
   "metadata": {},
   "source": [
    "### Players"
   ]
  },
  {
   "cell_type": "code",
   "execution_count": 2,
   "metadata": {},
   "outputs": [],
   "source": [
    "players_df = pd.read_csv('./nfl-big-data-bowl-2025/players.csv')"
   ]
  },
  {
   "cell_type": "code",
   "execution_count": 3,
   "metadata": {},
   "outputs": [
    {
     "data": {
      "text/html": [
       "<div>\n",
       "<style scoped>\n",
       "    .dataframe tbody tr th:only-of-type {\n",
       "        vertical-align: middle;\n",
       "    }\n",
       "\n",
       "    .dataframe tbody tr th {\n",
       "        vertical-align: top;\n",
       "    }\n",
       "\n",
       "    .dataframe thead th {\n",
       "        text-align: right;\n",
       "    }\n",
       "</style>\n",
       "<table border=\"1\" class=\"dataframe\">\n",
       "  <thead>\n",
       "    <tr style=\"text-align: right;\">\n",
       "      <th></th>\n",
       "      <th>nflId</th>\n",
       "      <th>height</th>\n",
       "      <th>weight</th>\n",
       "      <th>birthDate</th>\n",
       "      <th>collegeName</th>\n",
       "      <th>position</th>\n",
       "      <th>displayName</th>\n",
       "    </tr>\n",
       "  </thead>\n",
       "  <tbody>\n",
       "    <tr>\n",
       "      <th>0</th>\n",
       "      <td>25511</td>\n",
       "      <td>6-4</td>\n",
       "      <td>225</td>\n",
       "      <td>1977-08-03</td>\n",
       "      <td>Michigan</td>\n",
       "      <td>QB</td>\n",
       "      <td>Tom Brady</td>\n",
       "    </tr>\n",
       "    <tr>\n",
       "      <th>1</th>\n",
       "      <td>29550</td>\n",
       "      <td>6-4</td>\n",
       "      <td>328</td>\n",
       "      <td>1982-01-22</td>\n",
       "      <td>Arkansas</td>\n",
       "      <td>T</td>\n",
       "      <td>Jason Peters</td>\n",
       "    </tr>\n",
       "    <tr>\n",
       "      <th>2</th>\n",
       "      <td>29851</td>\n",
       "      <td>6-2</td>\n",
       "      <td>225</td>\n",
       "      <td>1983-12-02</td>\n",
       "      <td>California</td>\n",
       "      <td>QB</td>\n",
       "      <td>Aaron Rodgers</td>\n",
       "    </tr>\n",
       "    <tr>\n",
       "      <th>3</th>\n",
       "      <td>30842</td>\n",
       "      <td>6-6</td>\n",
       "      <td>267</td>\n",
       "      <td>1984-05-19</td>\n",
       "      <td>UCLA</td>\n",
       "      <td>TE</td>\n",
       "      <td>Marcedes Lewis</td>\n",
       "    </tr>\n",
       "    <tr>\n",
       "      <th>4</th>\n",
       "      <td>33084</td>\n",
       "      <td>6-4</td>\n",
       "      <td>217</td>\n",
       "      <td>1985-05-17</td>\n",
       "      <td>Boston College</td>\n",
       "      <td>QB</td>\n",
       "      <td>Matt Ryan</td>\n",
       "    </tr>\n",
       "  </tbody>\n",
       "</table>\n",
       "</div>"
      ],
      "text/plain": [
       "   nflId height  weight   birthDate     collegeName position     displayName\n",
       "0  25511    6-4     225  1977-08-03        Michigan       QB       Tom Brady\n",
       "1  29550    6-4     328  1982-01-22        Arkansas        T    Jason Peters\n",
       "2  29851    6-2     225  1983-12-02      California       QB   Aaron Rodgers\n",
       "3  30842    6-6     267  1984-05-19            UCLA       TE  Marcedes Lewis\n",
       "4  33084    6-4     217  1985-05-17  Boston College       QB       Matt Ryan"
      ]
     },
     "execution_count": 3,
     "metadata": {},
     "output_type": "execute_result"
    }
   ],
   "source": [
    "players_df.head()"
   ]
  },
  {
   "cell_type": "code",
   "execution_count": 7,
   "metadata": {},
   "outputs": [],
   "source": [
    "player_weight_grouped_by_position = players_df.groupby('position')['weight'].mean()"
   ]
  },
  {
   "cell_type": "code",
   "execution_count": 17,
   "metadata": {},
   "outputs": [
    {
     "name": "stdout",
     "output_type": "stream",
     "text": [
      "Position with the highest weight is NT with a weight of 322.88 lbs.\n",
      "Position with the highest weight is CB with a weight of 193.05 lbs.\n"
     ]
    }
   ],
   "source": [
    "print(f\"Position with the highest weight is {player_weight_grouped_by_position.idxmax()} with a weight of {round(player_weight_grouped_by_position.max(), 2)} lbs.\")\n",
    "print(f\"Position with the highest weight is {player_weight_grouped_by_position.idxmin()} with a weight of {round(player_weight_grouped_by_position.min(), 2)} lbs.\")"
   ]
  },
  {
   "cell_type": "code",
   "execution_count": 19,
   "metadata": {},
   "outputs": [],
   "source": [
    "# Convert height into inches\n",
    "def convert_ft_to_inches(height: str):\n",
    "    \"\"\"Convert height as a string into an integer\"\"\"\n",
    "    feet = int(height[0])\n",
    "    inches = int(height[-1])\n",
    "    total_inches = feet * 12 + inches\n",
    "    return total_inches\n"
   ]
  },
  {
   "cell_type": "code",
   "execution_count": 22,
   "metadata": {},
   "outputs": [],
   "source": [
    "players_df['height_in_inches'] = players_df['height'].apply(convert_ft_to_inches)"
   ]
  },
  {
   "cell_type": "code",
   "execution_count": 23,
   "metadata": {},
   "outputs": [
    {
     "data": {
      "text/html": [
       "<div>\n",
       "<style scoped>\n",
       "    .dataframe tbody tr th:only-of-type {\n",
       "        vertical-align: middle;\n",
       "    }\n",
       "\n",
       "    .dataframe tbody tr th {\n",
       "        vertical-align: top;\n",
       "    }\n",
       "\n",
       "    .dataframe thead th {\n",
       "        text-align: right;\n",
       "    }\n",
       "</style>\n",
       "<table border=\"1\" class=\"dataframe\">\n",
       "  <thead>\n",
       "    <tr style=\"text-align: right;\">\n",
       "      <th></th>\n",
       "      <th>nflId</th>\n",
       "      <th>height</th>\n",
       "      <th>weight</th>\n",
       "      <th>birthDate</th>\n",
       "      <th>collegeName</th>\n",
       "      <th>position</th>\n",
       "      <th>displayName</th>\n",
       "      <th>height_in_inches</th>\n",
       "    </tr>\n",
       "  </thead>\n",
       "  <tbody>\n",
       "    <tr>\n",
       "      <th>0</th>\n",
       "      <td>25511</td>\n",
       "      <td>6-4</td>\n",
       "      <td>225</td>\n",
       "      <td>1977-08-03</td>\n",
       "      <td>Michigan</td>\n",
       "      <td>QB</td>\n",
       "      <td>Tom Brady</td>\n",
       "      <td>76</td>\n",
       "    </tr>\n",
       "    <tr>\n",
       "      <th>1</th>\n",
       "      <td>29550</td>\n",
       "      <td>6-4</td>\n",
       "      <td>328</td>\n",
       "      <td>1982-01-22</td>\n",
       "      <td>Arkansas</td>\n",
       "      <td>T</td>\n",
       "      <td>Jason Peters</td>\n",
       "      <td>76</td>\n",
       "    </tr>\n",
       "    <tr>\n",
       "      <th>2</th>\n",
       "      <td>29851</td>\n",
       "      <td>6-2</td>\n",
       "      <td>225</td>\n",
       "      <td>1983-12-02</td>\n",
       "      <td>California</td>\n",
       "      <td>QB</td>\n",
       "      <td>Aaron Rodgers</td>\n",
       "      <td>74</td>\n",
       "    </tr>\n",
       "    <tr>\n",
       "      <th>3</th>\n",
       "      <td>30842</td>\n",
       "      <td>6-6</td>\n",
       "      <td>267</td>\n",
       "      <td>1984-05-19</td>\n",
       "      <td>UCLA</td>\n",
       "      <td>TE</td>\n",
       "      <td>Marcedes Lewis</td>\n",
       "      <td>78</td>\n",
       "    </tr>\n",
       "    <tr>\n",
       "      <th>4</th>\n",
       "      <td>33084</td>\n",
       "      <td>6-4</td>\n",
       "      <td>217</td>\n",
       "      <td>1985-05-17</td>\n",
       "      <td>Boston College</td>\n",
       "      <td>QB</td>\n",
       "      <td>Matt Ryan</td>\n",
       "      <td>76</td>\n",
       "    </tr>\n",
       "  </tbody>\n",
       "</table>\n",
       "</div>"
      ],
      "text/plain": [
       "   nflId height  weight   birthDate     collegeName position     displayName  \\\n",
       "0  25511    6-4     225  1977-08-03        Michigan       QB       Tom Brady   \n",
       "1  29550    6-4     328  1982-01-22        Arkansas        T    Jason Peters   \n",
       "2  29851    6-2     225  1983-12-02      California       QB   Aaron Rodgers   \n",
       "3  30842    6-6     267  1984-05-19            UCLA       TE  Marcedes Lewis   \n",
       "4  33084    6-4     217  1985-05-17  Boston College       QB       Matt Ryan   \n",
       "\n",
       "   height_in_inches  \n",
       "0                76  \n",
       "1                76  \n",
       "2                74  \n",
       "3                78  \n",
       "4                76  "
      ]
     },
     "execution_count": 23,
     "metadata": {},
     "output_type": "execute_result"
    }
   ],
   "source": [
    "players_df.head()"
   ]
  },
  {
   "cell_type": "code",
   "execution_count": 59,
   "metadata": {},
   "outputs": [
    {
     "data": {
      "application/vnd.plotly.v1+json": {
       "config": {
        "plotlyServerURL": "https://plot.ly"
       },
       "data": [
        {
         "customdata": [
          [
           "QB"
          ],
          [
           "T"
          ],
          [
           "QB"
          ],
          [
           "TE"
          ],
          [
           "QB"
          ],
          [
           "QB"
          ],
          [
           "T"
          ],
          [
           "WR"
          ],
          [
           "DE"
          ],
          [
           "QB"
          ],
          [
           "WR"
          ],
          [
           "QB"
          ],
          [
           "QB"
          ],
          [
           "QB"
          ],
          [
           "T"
          ],
          [
           "NT"
          ],
          [
           "DE"
          ],
          [
           "DE"
          ],
          [
           "SS"
          ],
          [
           "FS"
          ],
          [
           "DE"
          ],
          [
           "G"
          ],
          [
           "OLB"
          ],
          [
           "DT"
          ],
          [
           "NT"
          ],
          [
           "T"
          ],
          [
           "OLB"
          ],
          [
           "WR"
          ],
          [
           "CB"
          ],
          [
           "WR"
          ],
          [
           "DE"
          ],
          [
           "OLB"
          ],
          [
           "DE"
          ],
          [
           "RB"
          ],
          [
           "DT"
          ],
          [
           "QB"
          ],
          [
           "TE"
          ],
          [
           "C"
          ],
          [
           "WR"
          ],
          [
           "OLB"
          ],
          [
           "T"
          ],
          [
           "QB"
          ],
          [
           "C"
          ],
          [
           "DT"
          ],
          [
           "CB"
          ],
          [
           "ILB"
          ],
          [
           "ILB"
          ],
          [
           "DE"
          ],
          [
           "QB"
          ],
          [
           "CB"
          ],
          [
           "DT"
          ],
          [
           "DE"
          ],
          [
           "OLB"
          ],
          [
           "OLB"
          ],
          [
           "DE"
          ],
          [
           "T"
          ],
          [
           "G"
          ],
          [
           "SS"
          ],
          [
           "ILB"
          ],
          [
           "ILB"
          ],
          [
           "DE"
          ],
          [
           "CB"
          ],
          [
           "QB"
          ],
          [
           "MLB"
          ],
          [
           "QB"
          ],
          [
           "DT"
          ],
          [
           "C"
          ],
          [
           "QB"
          ],
          [
           "T"
          ],
          [
           "WR"
          ],
          [
           "CB"
          ],
          [
           "T"
          ],
          [
           "FS"
          ],
          [
           "SS"
          ],
          [
           "FS"
          ],
          [
           "QB"
          ],
          [
           "WR"
          ],
          [
           "RB"
          ],
          [
           "WR"
          ],
          [
           "G"
          ],
          [
           "FS"
          ],
          [
           "FS"
          ],
          [
           "T"
          ],
          [
           "G"
          ],
          [
           "WR"
          ],
          [
           "RB"
          ],
          [
           "TE"
          ],
          [
           "CB"
          ],
          [
           "QB"
          ],
          [
           "WR"
          ],
          [
           "DT"
          ],
          [
           "OLB"
          ],
          [
           "OLB"
          ],
          [
           "TE"
          ],
          [
           "FS"
          ],
          [
           "T"
          ],
          [
           "WR"
          ],
          [
           "WR"
          ],
          [
           "DT"
          ],
          [
           "FS"
          ],
          [
           "SS"
          ],
          [
           "DT"
          ],
          [
           "T"
          ],
          [
           "DE"
          ],
          [
           "FB"
          ],
          [
           "G"
          ],
          [
           "OLB"
          ],
          [
           "OLB"
          ],
          [
           "FS"
          ],
          [
           "G"
          ],
          [
           "RB"
          ],
          [
           "RB"
          ],
          [
           "TE"
          ],
          [
           "SS"
          ],
          [
           "DT"
          ],
          [
           "NT"
          ],
          [
           "OLB"
          ],
          [
           "WR"
          ],
          [
           "CB"
          ],
          [
           "SS"
          ],
          [
           "C"
          ],
          [
           "OLB"
          ],
          [
           "WR"
          ],
          [
           "DE"
          ],
          [
           "T"
          ],
          [
           "WR"
          ],
          [
           "OLB"
          ],
          [
           "T"
          ],
          [
           "DT"
          ],
          [
           "CB"
          ],
          [
           "G"
          ],
          [
           "ILB"
          ],
          [
           "T"
          ],
          [
           "WR"
          ],
          [
           "FS"
          ],
          [
           "CB"
          ],
          [
           "QB"
          ],
          [
           "DE"
          ],
          [
           "G"
          ],
          [
           "QB"
          ],
          [
           "OLB"
          ],
          [
           "SS"
          ],
          [
           "OLB"
          ],
          [
           "WR"
          ],
          [
           "WR"
          ],
          [
           "QB"
          ],
          [
           "WR"
          ],
          [
           "C"
          ],
          [
           "T"
          ],
          [
           "T"
          ],
          [
           "OLB"
          ],
          [
           "G"
          ],
          [
           "G"
          ],
          [
           "G"
          ],
          [
           "RB"
          ],
          [
           "TE"
          ],
          [
           "DT"
          ],
          [
           "DT"
          ],
          [
           "TE"
          ],
          [
           "CB"
          ],
          [
           "OLB"
          ],
          [
           "DE"
          ],
          [
           "T"
          ],
          [
           "C"
          ],
          [
           "OLB"
          ],
          [
           "DT"
          ],
          [
           "T"
          ],
          [
           "CB"
          ],
          [
           "WR"
          ],
          [
           "FS"
          ],
          [
           "T"
          ],
          [
           "T"
          ],
          [
           "NT"
          ],
          [
           "ILB"
          ],
          [
           "C"
          ],
          [
           "G"
          ],
          [
           "T"
          ],
          [
           "C"
          ],
          [
           "RB"
          ],
          [
           "DE"
          ],
          [
           "FB"
          ],
          [
           "OLB"
          ],
          [
           "G"
          ],
          [
           "ILB"
          ],
          [
           "G"
          ],
          [
           "CB"
          ],
          [
           "DE"
          ],
          [
           "TE"
          ],
          [
           "FS"
          ],
          [
           "TE"
          ],
          [
           "DE"
          ],
          [
           "QB"
          ],
          [
           "QB"
          ],
          [
           "OLB"
          ],
          [
           "WR"
          ],
          [
           "G"
          ],
          [
           "DT"
          ],
          [
           "WR"
          ],
          [
           "G"
          ],
          [
           "WR"
          ],
          [
           "RB"
          ],
          [
           "DT"
          ],
          [
           "CB"
          ],
          [
           "T"
          ],
          [
           "WR"
          ],
          [
           "T"
          ],
          [
           "OLB"
          ],
          [
           "T"
          ],
          [
           "ILB"
          ],
          [
           "WR"
          ],
          [
           "G"
          ],
          [
           "WR"
          ],
          [
           "SS"
          ],
          [
           "T"
          ],
          [
           "DE"
          ],
          [
           "OLB"
          ],
          [
           "ILB"
          ],
          [
           "SS"
          ],
          [
           "ILB"
          ],
          [
           "C"
          ],
          [
           "CB"
          ],
          [
           "DT"
          ],
          [
           "RB"
          ],
          [
           "TE"
          ],
          [
           "T"
          ],
          [
           "OLB"
          ],
          [
           "OLB"
          ],
          [
           "OLB"
          ],
          [
           "G"
          ],
          [
           "WR"
          ],
          [
           "RB"
          ],
          [
           "WR"
          ],
          [
           "CB"
          ],
          [
           "ILB"
          ],
          [
           "TE"
          ],
          [
           "OLB"
          ],
          [
           "NT"
          ],
          [
           "DE"
          ],
          [
           "WR"
          ],
          [
           "CB"
          ],
          [
           "DT"
          ],
          [
           "OLB"
          ],
          [
           "WR"
          ],
          [
           "DE"
          ],
          [
           "OLB"
          ],
          [
           "RB"
          ],
          [
           "MLB"
          ],
          [
           "C"
          ],
          [
           "G"
          ],
          [
           "G"
          ],
          [
           "G"
          ],
          [
           "DT"
          ],
          [
           "FS"
          ],
          [
           "TE"
          ],
          [
           "SS"
          ],
          [
           "WR"
          ],
          [
           "TE"
          ],
          [
           "TE"
          ],
          [
           "FB"
          ],
          [
           "MLB"
          ],
          [
           "TE"
          ],
          [
           "FS"
          ],
          [
           "TE"
          ],
          [
           "DT"
          ],
          [
           "NT"
          ],
          [
           "NT"
          ],
          [
           "T"
          ],
          [
           "T"
          ],
          [
           "TE"
          ],
          [
           "QB"
          ],
          [
           "T"
          ],
          [
           "RB"
          ],
          [
           "TE"
          ],
          [
           "ILB"
          ],
          [
           "WR"
          ],
          [
           "CB"
          ],
          [
           "WR"
          ],
          [
           "DE"
          ],
          [
           "CB"
          ],
          [
           "QB"
          ],
          [
           "RB"
          ],
          [
           "C"
          ],
          [
           "WR"
          ],
          [
           "SS"
          ],
          [
           "ILB"
          ],
          [
           "CB"
          ],
          [
           "C"
          ],
          [
           "DT"
          ],
          [
           "QB"
          ],
          [
           "QB"
          ],
          [
           "DE"
          ],
          [
           "RB"
          ],
          [
           "CB"
          ],
          [
           "T"
          ],
          [
           "DT"
          ],
          [
           "T"
          ],
          [
           "DE"
          ],
          [
           "CB"
          ],
          [
           "DT"
          ],
          [
           "T"
          ],
          [
           "T"
          ],
          [
           "FS"
          ],
          [
           "C"
          ],
          [
           "DE"
          ],
          [
           "CB"
          ],
          [
           "CB"
          ],
          [
           "DE"
          ],
          [
           "DE"
          ],
          [
           "MLB"
          ],
          [
           "TE"
          ],
          [
           "ILB"
          ],
          [
           "DT"
          ],
          [
           "CB"
          ],
          [
           "WR"
          ],
          [
           "DT"
          ],
          [
           "DE"
          ],
          [
           "RB"
          ],
          [
           "DT"
          ],
          [
           "WR"
          ],
          [
           "NT"
          ],
          [
           "C"
          ],
          [
           "ILB"
          ],
          [
           "WR"
          ],
          [
           "G"
          ],
          [
           "SS"
          ],
          [
           "CB"
          ],
          [
           "DE"
          ],
          [
           "FS"
          ],
          [
           "OLB"
          ],
          [
           "DT"
          ],
          [
           "DE"
          ],
          [
           "DE"
          ],
          [
           "RB"
          ],
          [
           "FS"
          ],
          [
           "G"
          ],
          [
           "G"
          ],
          [
           "TE"
          ],
          [
           "CB"
          ],
          [
           "ILB"
          ],
          [
           "DT"
          ],
          [
           "QB"
          ],
          [
           "TE"
          ],
          [
           "G"
          ],
          [
           "FS"
          ],
          [
           "ILB"
          ],
          [
           "FS"
          ],
          [
           "WR"
          ],
          [
           "TE"
          ],
          [
           "SS"
          ],
          [
           "ILB"
          ],
          [
           "DT"
          ],
          [
           "SS"
          ],
          [
           "DT"
          ],
          [
           "DT"
          ],
          [
           "SS"
          ],
          [
           "WR"
          ],
          [
           "ILB"
          ],
          [
           "QB"
          ],
          [
           "DE"
          ],
          [
           "C"
          ],
          [
           "OLB"
          ],
          [
           "DE"
          ],
          [
           "RB"
          ],
          [
           "DT"
          ],
          [
           "T"
          ],
          [
           "RB"
          ],
          [
           "T"
          ],
          [
           "WR"
          ],
          [
           "NT"
          ],
          [
           "WR"
          ],
          [
           "FS"
          ],
          [
           "CB"
          ],
          [
           "G"
          ],
          [
           "FB"
          ],
          [
           "QB"
          ],
          [
           "WR"
          ],
          [
           "QB"
          ],
          [
           "ILB"
          ],
          [
           "ILB"
          ],
          [
           "FS"
          ],
          [
           "C"
          ],
          [
           "CB"
          ],
          [
           "RB"
          ],
          [
           "FS"
          ],
          [
           "SS"
          ],
          [
           "C"
          ],
          [
           "WR"
          ],
          [
           "T"
          ],
          [
           "FS"
          ],
          [
           "CB"
          ],
          [
           "NT"
          ],
          [
           "CB"
          ],
          [
           "RB"
          ],
          [
           "SS"
          ],
          [
           "DT"
          ],
          [
           "DT"
          ],
          [
           "DT"
          ],
          [
           "OLB"
          ],
          [
           "WR"
          ],
          [
           "C"
          ],
          [
           "TE"
          ],
          [
           "DT"
          ],
          [
           "FB"
          ],
          [
           "CB"
          ],
          [
           "WR"
          ],
          [
           "TE"
          ],
          [
           "C"
          ],
          [
           "ILB"
          ],
          [
           "TE"
          ],
          [
           "DE"
          ],
          [
           "QB"
          ],
          [
           "DT"
          ],
          [
           "RB"
          ],
          [
           "WR"
          ],
          [
           "SS"
          ],
          [
           "WR"
          ],
          [
           "RB"
          ],
          [
           "QB"
          ],
          [
           "CB"
          ],
          [
           "OLB"
          ],
          [
           "DE"
          ],
          [
           "FS"
          ],
          [
           "CB"
          ],
          [
           "DT"
          ],
          [
           "CB"
          ],
          [
           "TE"
          ],
          [
           "T"
          ],
          [
           "DE"
          ],
          [
           "TE"
          ],
          [
           "SS"
          ],
          [
           "DE"
          ],
          [
           "TE"
          ],
          [
           "OLB"
          ],
          [
           "T"
          ],
          [
           "T"
          ],
          [
           "SS"
          ],
          [
           "WR"
          ],
          [
           "FS"
          ],
          [
           "WR"
          ],
          [
           "RB"
          ],
          [
           "FS"
          ],
          [
           "CB"
          ],
          [
           "TE"
          ],
          [
           "CB"
          ],
          [
           "OLB"
          ],
          [
           "RB"
          ],
          [
           "OLB"
          ],
          [
           "FS"
          ],
          [
           "DE"
          ],
          [
           "ILB"
          ],
          [
           "DT"
          ],
          [
           "ILB"
          ],
          [
           "C"
          ],
          [
           "DE"
          ],
          [
           "CB"
          ],
          [
           "FS"
          ],
          [
           "WR"
          ],
          [
           "T"
          ],
          [
           "T"
          ],
          [
           "DT"
          ],
          [
           "CB"
          ],
          [
           "RB"
          ],
          [
           "DE"
          ],
          [
           "WR"
          ],
          [
           "C"
          ],
          [
           "DE"
          ],
          [
           "ILB"
          ],
          [
           "ILB"
          ],
          [
           "DE"
          ],
          [
           "CB"
          ],
          [
           "WR"
          ],
          [
           "RB"
          ],
          [
           "RB"
          ],
          [
           "CB"
          ],
          [
           "SS"
          ],
          [
           "CB"
          ],
          [
           "NT"
          ],
          [
           "CB"
          ],
          [
           "WR"
          ],
          [
           "CB"
          ],
          [
           "TE"
          ],
          [
           "DE"
          ],
          [
           "QB"
          ],
          [
           "RB"
          ],
          [
           "DT"
          ],
          [
           "FS"
          ],
          [
           "SS"
          ],
          [
           "RB"
          ],
          [
           "DE"
          ],
          [
           "WR"
          ],
          [
           "WR"
          ],
          [
           "OLB"
          ],
          [
           "DE"
          ],
          [
           "DE"
          ],
          [
           "RB"
          ],
          [
           "C"
          ],
          [
           "DE"
          ],
          [
           "DT"
          ],
          [
           "TE"
          ],
          [
           "CB"
          ],
          [
           "OLB"
          ],
          [
           "T"
          ],
          [
           "MLB"
          ],
          [
           "MLB"
          ],
          [
           "WR"
          ],
          [
           "WR"
          ],
          [
           "TE"
          ],
          [
           "WR"
          ],
          [
           "NT"
          ],
          [
           "RB"
          ],
          [
           "SS"
          ],
          [
           "FS"
          ],
          [
           "RB"
          ],
          [
           "ILB"
          ],
          [
           "DE"
          ],
          [
           "NT"
          ],
          [
           "C"
          ],
          [
           "FS"
          ],
          [
           "T"
          ],
          [
           "C"
          ],
          [
           "DE"
          ],
          [
           "DE"
          ],
          [
           "OLB"
          ],
          [
           "WR"
          ],
          [
           "G"
          ],
          [
           "DE"
          ],
          [
           "TE"
          ],
          [
           "C"
          ],
          [
           "TE"
          ],
          [
           "WR"
          ],
          [
           "QB"
          ],
          [
           "WR"
          ],
          [
           "RB"
          ],
          [
           "DE"
          ],
          [
           "ILB"
          ],
          [
           "TE"
          ],
          [
           "NT"
          ],
          [
           "QB"
          ],
          [
           "FB"
          ],
          [
           "WR"
          ],
          [
           "TE"
          ],
          [
           "CB"
          ],
          [
           "TE"
          ],
          [
           "OLB"
          ],
          [
           "ILB"
          ],
          [
           "TE"
          ],
          [
           "WR"
          ],
          [
           "CB"
          ],
          [
           "WR"
          ],
          [
           "ILB"
          ],
          [
           "QB"
          ],
          [
           "G"
          ],
          [
           "WR"
          ],
          [
           "CB"
          ],
          [
           "RB"
          ],
          [
           "T"
          ],
          [
           "TE"
          ],
          [
           "ILB"
          ],
          [
           "T"
          ],
          [
           "RB"
          ],
          [
           "T"
          ],
          [
           "TE"
          ],
          [
           "G"
          ],
          [
           "WR"
          ],
          [
           "QB"
          ],
          [
           "RB"
          ],
          [
           "CB"
          ],
          [
           "OLB"
          ],
          [
           "G"
          ],
          [
           "QB"
          ],
          [
           "ILB"
          ],
          [
           "T"
          ],
          [
           "FS"
          ],
          [
           "NT"
          ],
          [
           "DT"
          ],
          [
           "OLB"
          ],
          [
           "T"
          ],
          [
           "ILB"
          ],
          [
           "SS"
          ],
          [
           "CB"
          ],
          [
           "ILB"
          ],
          [
           "C"
          ],
          [
           "C"
          ],
          [
           "ILB"
          ],
          [
           "G"
          ],
          [
           "WR"
          ],
          [
           "TE"
          ],
          [
           "RB"
          ],
          [
           "FS"
          ],
          [
           "DT"
          ],
          [
           "CB"
          ],
          [
           "RB"
          ],
          [
           "QB"
          ],
          [
           "G"
          ],
          [
           "G"
          ],
          [
           "RB"
          ],
          [
           "MLB"
          ],
          [
           "T"
          ],
          [
           "G"
          ],
          [
           "WR"
          ],
          [
           "TE"
          ],
          [
           "WR"
          ],
          [
           "CB"
          ],
          [
           "WR"
          ],
          [
           "OLB"
          ],
          [
           "TE"
          ],
          [
           "C"
          ],
          [
           "DE"
          ],
          [
           "SS"
          ],
          [
           "FS"
          ],
          [
           "CB"
          ],
          [
           "CB"
          ],
          [
           "WR"
          ],
          [
           "T"
          ],
          [
           "CB"
          ],
          [
           "DE"
          ],
          [
           "OLB"
          ],
          [
           "SS"
          ],
          [
           "DT"
          ],
          [
           "ILB"
          ],
          [
           "DT"
          ],
          [
           "ILB"
          ],
          [
           "T"
          ],
          [
           "DT"
          ],
          [
           "DE"
          ],
          [
           "DE"
          ],
          [
           "WR"
          ],
          [
           "FS"
          ],
          [
           "T"
          ],
          [
           "DT"
          ],
          [
           "TE"
          ],
          [
           "OLB"
          ],
          [
           "OLB"
          ],
          [
           "T"
          ],
          [
           "DT"
          ],
          [
           "WR"
          ],
          [
           "T"
          ],
          [
           "DB"
          ],
          [
           "G"
          ],
          [
           "SS"
          ],
          [
           "DT"
          ],
          [
           "C"
          ],
          [
           "TE"
          ],
          [
           "CB"
          ],
          [
           "TE"
          ],
          [
           "WR"
          ],
          [
           "RB"
          ],
          [
           "ILB"
          ],
          [
           "C"
          ],
          [
           "DE"
          ],
          [
           "DE"
          ],
          [
           "SS"
          ],
          [
           "CB"
          ],
          [
           "ILB"
          ],
          [
           "TE"
          ],
          [
           "CB"
          ],
          [
           "TE"
          ],
          [
           "CB"
          ],
          [
           "DT"
          ],
          [
           "LB"
          ],
          [
           "RB"
          ],
          [
           "DE"
          ],
          [
           "OLB"
          ],
          [
           "TE"
          ],
          [
           "CB"
          ],
          [
           "ILB"
          ],
          [
           "WR"
          ],
          [
           "DT"
          ],
          [
           "CB"
          ],
          [
           "DE"
          ],
          [
           "CB"
          ],
          [
           "C"
          ],
          [
           "TE"
          ],
          [
           "DE"
          ],
          [
           "DT"
          ],
          [
           "G"
          ],
          [
           "RB"
          ],
          [
           "WR"
          ],
          [
           "DT"
          ],
          [
           "OLB"
          ],
          [
           "DE"
          ],
          [
           "WR"
          ],
          [
           "FS"
          ],
          [
           "WR"
          ],
          [
           "DT"
          ],
          [
           "ILB"
          ],
          [
           "RB"
          ],
          [
           "T"
          ],
          [
           "WR"
          ],
          [
           "WR"
          ],
          [
           "CB"
          ],
          [
           "WR"
          ],
          [
           "G"
          ],
          [
           "C"
          ],
          [
           "OLB"
          ],
          [
           "WR"
          ],
          [
           "T"
          ],
          [
           "OLB"
          ],
          [
           "DE"
          ],
          [
           "WR"
          ],
          [
           "CB"
          ],
          [
           "C"
          ],
          [
           "RB"
          ],
          [
           "CB"
          ],
          [
           "TE"
          ],
          [
           "G"
          ],
          [
           "FS"
          ],
          [
           "CB"
          ],
          [
           "WR"
          ],
          [
           "RB"
          ],
          [
           "C"
          ],
          [
           "C"
          ],
          [
           "RB"
          ],
          [
           "SS"
          ],
          [
           "DT"
          ],
          [
           "C"
          ],
          [
           "CB"
          ],
          [
           "RB"
          ],
          [
           "TE"
          ],
          [
           "CB"
          ],
          [
           "OLB"
          ],
          [
           "RB"
          ],
          [
           "DE"
          ],
          [
           "SS"
          ],
          [
           "DT"
          ],
          [
           "RB"
          ],
          [
           "ILB"
          ],
          [
           "WR"
          ],
          [
           "RB"
          ],
          [
           "ILB"
          ],
          [
           "WR"
          ],
          [
           "DT"
          ],
          [
           "DT"
          ],
          [
           "C"
          ],
          [
           "CB"
          ],
          [
           "SS"
          ],
          [
           "CB"
          ],
          [
           "OLB"
          ],
          [
           "SS"
          ],
          [
           "WR"
          ],
          [
           "CB"
          ],
          [
           "ILB"
          ],
          [
           "C"
          ],
          [
           "SS"
          ],
          [
           "CB"
          ],
          [
           "CB"
          ],
          [
           "CB"
          ],
          [
           "CB"
          ],
          [
           "WR"
          ],
          [
           "T"
          ],
          [
           "SS"
          ],
          [
           "CB"
          ],
          [
           "T"
          ],
          [
           "CB"
          ],
          [
           "DT"
          ],
          [
           "CB"
          ],
          [
           "DE"
          ],
          [
           "TE"
          ],
          [
           "CB"
          ],
          [
           "WR"
          ],
          [
           "DT"
          ],
          [
           "FS"
          ],
          [
           "OLB"
          ],
          [
           "OLB"
          ],
          [
           "ILB"
          ],
          [
           "WR"
          ],
          [
           "WR"
          ],
          [
           "RB"
          ],
          [
           "FB"
          ],
          [
           "QB"
          ],
          [
           "DE"
          ],
          [
           "NT"
          ],
          [
           "DE"
          ],
          [
           "ILB"
          ],
          [
           "QB"
          ],
          [
           "OLB"
          ],
          [
           "TE"
          ],
          [
           "DT"
          ],
          [
           "ILB"
          ],
          [
           "T"
          ],
          [
           "OLB"
          ],
          [
           "DE"
          ],
          [
           "G"
          ],
          [
           "OLB"
          ],
          [
           "NT"
          ],
          [
           "C"
          ],
          [
           "DT"
          ],
          [
           "TE"
          ],
          [
           "SS"
          ],
          [
           "T"
          ],
          [
           "T"
          ],
          [
           "RB"
          ],
          [
           "WR"
          ],
          [
           "DE"
          ],
          [
           "SS"
          ],
          [
           "DT"
          ],
          [
           "DE"
          ],
          [
           "T"
          ],
          [
           "WR"
          ],
          [
           "CB"
          ],
          [
           "CB"
          ],
          [
           "T"
          ],
          [
           "WR"
          ],
          [
           "T"
          ],
          [
           "G"
          ],
          [
           "CB"
          ],
          [
           "CB"
          ],
          [
           "G"
          ],
          [
           "ILB"
          ],
          [
           "G"
          ],
          [
           "CB"
          ],
          [
           "FS"
          ],
          [
           "C"
          ],
          [
           "DE"
          ],
          [
           "TE"
          ],
          [
           "WR"
          ],
          [
           "TE"
          ],
          [
           "RB"
          ],
          [
           "CB"
          ],
          [
           "G"
          ],
          [
           "WR"
          ],
          [
           "DT"
          ],
          [
           "WR"
          ],
          [
           "FS"
          ],
          [
           "SS"
          ],
          [
           "WR"
          ],
          [
           "FS"
          ],
          [
           "WR"
          ],
          [
           "DE"
          ],
          [
           "WR"
          ],
          [
           "TE"
          ],
          [
           "RB"
          ],
          [
           "DE"
          ],
          [
           "OLB"
          ],
          [
           "RB"
          ],
          [
           "RB"
          ],
          [
           "WR"
          ],
          [
           "DE"
          ],
          [
           "CB"
          ],
          [
           "OLB"
          ],
          [
           "SS"
          ],
          [
           "G"
          ],
          [
           "CB"
          ],
          [
           "DT"
          ],
          [
           "RB"
          ],
          [
           "MLB"
          ],
          [
           "MLB"
          ],
          [
           "G"
          ],
          [
           "T"
          ],
          [
           "WR"
          ],
          [
           "CB"
          ],
          [
           "OLB"
          ],
          [
           "TE"
          ],
          [
           "G"
          ],
          [
           "ILB"
          ],
          [
           "FS"
          ],
          [
           "T"
          ],
          [
           "RB"
          ],
          [
           "SS"
          ],
          [
           "DE"
          ],
          [
           "OLB"
          ],
          [
           "SS"
          ],
          [
           "RB"
          ],
          [
           "FS"
          ],
          [
           "DE"
          ],
          [
           "C"
          ],
          [
           "TE"
          ],
          [
           "G"
          ],
          [
           "G"
          ],
          [
           "RB"
          ],
          [
           "ILB"
          ],
          [
           "G"
          ],
          [
           "FS"
          ],
          [
           "QB"
          ],
          [
           "NT"
          ],
          [
           "DE"
          ],
          [
           "TE"
          ],
          [
           "SS"
          ],
          [
           "TE"
          ],
          [
           "CB"
          ],
          [
           "ILB"
          ],
          [
           "WR"
          ],
          [
           "OLB"
          ],
          [
           "ILB"
          ],
          [
           "OLB"
          ],
          [
           "ILB"
          ],
          [
           "CB"
          ],
          [
           "DT"
          ],
          [
           "DE"
          ],
          [
           "OLB"
          ],
          [
           "G"
          ],
          [
           "WR"
          ],
          [
           "ILB"
          ],
          [
           "QB"
          ],
          [
           "FS"
          ],
          [
           "RB"
          ],
          [
           "WR"
          ],
          [
           "ILB"
          ],
          [
           "NT"
          ],
          [
           "SS"
          ],
          [
           "DT"
          ],
          [
           "G"
          ],
          [
           "QB"
          ],
          [
           "CB"
          ],
          [
           "RB"
          ],
          [
           "WR"
          ],
          [
           "T"
          ],
          [
           "SS"
          ],
          [
           "G"
          ],
          [
           "CB"
          ],
          [
           "OLB"
          ],
          [
           "TE"
          ],
          [
           "OLB"
          ],
          [
           "RB"
          ],
          [
           "T"
          ],
          [
           "SS"
          ],
          [
           "ILB"
          ],
          [
           "DE"
          ],
          [
           "WR"
          ],
          [
           "T"
          ],
          [
           "OLB"
          ],
          [
           "QB"
          ],
          [
           "T"
          ],
          [
           "FB"
          ],
          [
           "WR"
          ],
          [
           "OLB"
          ],
          [
           "WR"
          ],
          [
           "WR"
          ],
          [
           "DT"
          ],
          [
           "DE"
          ],
          [
           "G"
          ],
          [
           "C"
          ],
          [
           "DE"
          ],
          [
           "T"
          ],
          [
           "NT"
          ],
          [
           "FB"
          ],
          [
           "G"
          ],
          [
           "G"
          ],
          [
           "FB"
          ],
          [
           "C"
          ],
          [
           "CB"
          ],
          [
           "ILB"
          ],
          [
           "ILB"
          ],
          [
           "DT"
          ],
          [
           "DE"
          ],
          [
           "RB"
          ],
          [
           "OLB"
          ],
          [
           "WR"
          ],
          [
           "WR"
          ],
          [
           "FS"
          ],
          [
           "FS"
          ],
          [
           "T"
          ],
          [
           "TE"
          ],
          [
           "OLB"
          ],
          [
           "NT"
          ],
          [
           "WR"
          ],
          [
           "DE"
          ],
          [
           "TE"
          ],
          [
           "CB"
          ],
          [
           "MLB"
          ],
          [
           "G"
          ],
          [
           "CB"
          ],
          [
           "WR"
          ],
          [
           "CB"
          ],
          [
           "CB"
          ],
          [
           "FS"
          ],
          [
           "C"
          ],
          [
           "G"
          ],
          [
           "G"
          ],
          [
           "ILB"
          ],
          [
           "DT"
          ],
          [
           "WR"
          ],
          [
           "DE"
          ],
          [
           "WR"
          ],
          [
           "DT"
          ],
          [
           "OLB"
          ],
          [
           "WR"
          ],
          [
           "DE"
          ],
          [
           "WR"
          ],
          [
           "TE"
          ],
          [
           "SS"
          ],
          [
           "MLB"
          ],
          [
           "WR"
          ],
          [
           "WR"
          ],
          [
           "WR"
          ],
          [
           "NT"
          ],
          [
           "WR"
          ],
          [
           "TE"
          ],
          [
           "TE"
          ],
          [
           "RB"
          ],
          [
           "TE"
          ],
          [
           "TE"
          ],
          [
           "DT"
          ],
          [
           "ILB"
          ],
          [
           "T"
          ],
          [
           "WR"
          ],
          [
           "FS"
          ],
          [
           "CB"
          ],
          [
           "QB"
          ],
          [
           "CB"
          ],
          [
           "T"
          ],
          [
           "QB"
          ],
          [
           "QB"
          ],
          [
           "DT"
          ],
          [
           "MLB"
          ],
          [
           "CB"
          ],
          [
           "T"
          ],
          [
           "T"
          ],
          [
           "DT"
          ],
          [
           "WR"
          ],
          [
           "CB"
          ],
          [
           "WR"
          ],
          [
           "T"
          ],
          [
           "OLB"
          ],
          [
           "WR"
          ],
          [
           "WR"
          ],
          [
           "ILB"
          ],
          [
           "G"
          ],
          [
           "WR"
          ],
          [
           "QB"
          ],
          [
           "ILB"
          ],
          [
           "ILB"
          ],
          [
           "CB"
          ],
          [
           "RB"
          ],
          [
           "WR"
          ],
          [
           "WR"
          ],
          [
           "RB"
          ],
          [
           "FS"
          ],
          [
           "FS"
          ],
          [
           "OLB"
          ],
          [
           "G"
          ],
          [
           "DT"
          ],
          [
           "RB"
          ],
          [
           "WR"
          ],
          [
           "TE"
          ],
          [
           "SS"
          ],
          [
           "FS"
          ],
          [
           "WR"
          ],
          [
           "OLB"
          ],
          [
           "WR"
          ],
          [
           "CB"
          ],
          [
           "CB"
          ],
          [
           "RB"
          ],
          [
           "QB"
          ],
          [
           "DE"
          ],
          [
           "RB"
          ],
          [
           "NT"
          ],
          [
           "WR"
          ],
          [
           "G"
          ],
          [
           "WR"
          ],
          [
           "OLB"
          ],
          [
           "CB"
          ],
          [
           "RB"
          ],
          [
           "OLB"
          ],
          [
           "FS"
          ],
          [
           "ILB"
          ],
          [
           "RB"
          ],
          [
           "OLB"
          ],
          [
           "SS"
          ],
          [
           "G"
          ],
          [
           "FS"
          ],
          [
           "DT"
          ],
          [
           "G"
          ],
          [
           "DT"
          ],
          [
           "OLB"
          ],
          [
           "G"
          ],
          [
           "RB"
          ],
          [
           "CB"
          ],
          [
           "C"
          ],
          [
           "WR"
          ],
          [
           "WR"
          ],
          [
           "DT"
          ],
          [
           "C"
          ],
          [
           "OLB"
          ],
          [
           "FS"
          ],
          [
           "RB"
          ],
          [
           "OLB"
          ],
          [
           "DT"
          ],
          [
           "CB"
          ],
          [
           "DE"
          ],
          [
           "TE"
          ],
          [
           "WR"
          ],
          [
           "TE"
          ],
          [
           "MLB"
          ],
          [
           "OLB"
          ],
          [
           "OLB"
          ],
          [
           "FS"
          ],
          [
           "TE"
          ],
          [
           "T"
          ],
          [
           "OLB"
          ],
          [
           "G"
          ],
          [
           "G"
          ],
          [
           "CB"
          ],
          [
           "RB"
          ],
          [
           "NT"
          ],
          [
           "TE"
          ],
          [
           "G"
          ],
          [
           "OLB"
          ],
          [
           "TE"
          ],
          [
           "ILB"
          ],
          [
           "G"
          ],
          [
           "QB"
          ],
          [
           "T"
          ],
          [
           "FS"
          ],
          [
           "WR"
          ],
          [
           "NT"
          ],
          [
           "NT"
          ],
          [
           "ILB"
          ],
          [
           "TE"
          ],
          [
           "FS"
          ],
          [
           "G"
          ],
          [
           "TE"
          ],
          [
           "CB"
          ],
          [
           "CB"
          ],
          [
           "CB"
          ],
          [
           "G"
          ],
          [
           "RB"
          ],
          [
           "T"
          ],
          [
           "C"
          ],
          [
           "C"
          ],
          [
           "T"
          ],
          [
           "OLB"
          ],
          [
           "CB"
          ],
          [
           "WR"
          ],
          [
           "OLB"
          ],
          [
           "CB"
          ],
          [
           "WR"
          ],
          [
           "DE"
          ],
          [
           "WR"
          ],
          [
           "DT"
          ],
          [
           "WR"
          ],
          [
           "DE"
          ],
          [
           "G"
          ],
          [
           "G"
          ],
          [
           "DT"
          ],
          [
           "SS"
          ],
          [
           "WR"
          ],
          [
           "TE"
          ],
          [
           "G"
          ],
          [
           "T"
          ],
          [
           "FS"
          ],
          [
           "WR"
          ],
          [
           "WR"
          ],
          [
           "G"
          ],
          [
           "SS"
          ],
          [
           "TE"
          ],
          [
           "WR"
          ],
          [
           "C"
          ],
          [
           "T"
          ],
          [
           "CB"
          ],
          [
           "WR"
          ],
          [
           "ILB"
          ],
          [
           "SS"
          ],
          [
           "WR"
          ],
          [
           "SS"
          ],
          [
           "RB"
          ],
          [
           "DE"
          ],
          [
           "DT"
          ],
          [
           "DE"
          ],
          [
           "OLB"
          ],
          [
           "CB"
          ],
          [
           "OLB"
          ],
          [
           "CB"
          ],
          [
           "G"
          ],
          [
           "TE"
          ],
          [
           "WR"
          ],
          [
           "OLB"
          ],
          [
           "ILB"
          ],
          [
           "DT"
          ],
          [
           "G"
          ],
          [
           "TE"
          ],
          [
           "CB"
          ],
          [
           "ILB"
          ],
          [
           "RB"
          ],
          [
           "WR"
          ],
          [
           "TE"
          ],
          [
           "RB"
          ],
          [
           "DT"
          ],
          [
           "DT"
          ],
          [
           "RB"
          ],
          [
           "CB"
          ],
          [
           "WR"
          ],
          [
           "WR"
          ],
          [
           "DT"
          ],
          [
           "ILB"
          ],
          [
           "OLB"
          ],
          [
           "DE"
          ],
          [
           "DE"
          ],
          [
           "FS"
          ],
          [
           "TE"
          ],
          [
           "ILB"
          ],
          [
           "DE"
          ],
          [
           "RB"
          ],
          [
           "C"
          ],
          [
           "FS"
          ],
          [
           "TE"
          ],
          [
           "FS"
          ],
          [
           "RB"
          ],
          [
           "OLB"
          ],
          [
           "TE"
          ],
          [
           "T"
          ],
          [
           "TE"
          ],
          [
           "CB"
          ],
          [
           "DE"
          ],
          [
           "OLB"
          ],
          [
           "FS"
          ],
          [
           "CB"
          ],
          [
           "RB"
          ],
          [
           "G"
          ],
          [
           "CB"
          ],
          [
           "G"
          ],
          [
           "RB"
          ],
          [
           "TE"
          ],
          [
           "DT"
          ],
          [
           "CB"
          ],
          [
           "DE"
          ],
          [
           "CB"
          ],
          [
           "ILB"
          ],
          [
           "G"
          ],
          [
           "WR"
          ],
          [
           "DT"
          ],
          [
           "WR"
          ],
          [
           "FB"
          ],
          [
           "RB"
          ],
          [
           "C"
          ],
          [
           "WR"
          ],
          [
           "WR"
          ],
          [
           "WR"
          ],
          [
           "OLB"
          ],
          [
           "QB"
          ],
          [
           "QB"
          ],
          [
           "QB"
          ],
          [
           "TE"
          ],
          [
           "WR"
          ],
          [
           "WR"
          ],
          [
           "T"
          ],
          [
           "CB"
          ],
          [
           "CB"
          ],
          [
           "WR"
          ],
          [
           "QB"
          ],
          [
           "OLB"
          ],
          [
           "T"
          ],
          [
           "G"
          ],
          [
           "QB"
          ],
          [
           "OLB"
          ],
          [
           "OLB"
          ],
          [
           "OLB"
          ],
          [
           "WR"
          ],
          [
           "DE"
          ],
          [
           "CB"
          ],
          [
           "T"
          ],
          [
           "RB"
          ],
          [
           "RB"
          ],
          [
           "CB"
          ],
          [
           "WR"
          ],
          [
           "DE"
          ],
          [
           "CB"
          ],
          [
           "DE"
          ],
          [
           "OLB"
          ],
          [
           "OLB"
          ],
          [
           "CB"
          ],
          [
           "WR"
          ],
          [
           "RB"
          ],
          [
           "SS"
          ],
          [
           "G"
          ],
          [
           "DT"
          ],
          [
           "T"
          ],
          [
           "SS"
          ],
          [
           "G"
          ],
          [
           "FS"
          ],
          [
           "CB"
          ],
          [
           "T"
          ],
          [
           "CB"
          ],
          [
           "G"
          ],
          [
           "WR"
          ],
          [
           "DE"
          ],
          [
           "G"
          ],
          [
           "OLB"
          ],
          [
           "T"
          ],
          [
           "DE"
          ],
          [
           "TE"
          ],
          [
           "WR"
          ],
          [
           "WR"
          ],
          [
           "ILB"
          ],
          [
           "WR"
          ],
          [
           "OLB"
          ],
          [
           "OLB"
          ],
          [
           "C"
          ],
          [
           "C"
          ],
          [
           "SS"
          ],
          [
           "QB"
          ],
          [
           "DE"
          ],
          [
           "T"
          ],
          [
           "CB"
          ],
          [
           "DT"
          ],
          [
           "DT"
          ],
          [
           "CB"
          ],
          [
           "DT"
          ],
          [
           "CB"
          ],
          [
           "WR"
          ],
          [
           "DE"
          ],
          [
           "MLB"
          ],
          [
           "TE"
          ],
          [
           "WR"
          ],
          [
           "TE"
          ],
          [
           "DT"
          ],
          [
           "WR"
          ],
          [
           "G"
          ],
          [
           "RB"
          ],
          [
           "WR"
          ],
          [
           "OLB"
          ],
          [
           "WR"
          ],
          [
           "ILB"
          ],
          [
           "T"
          ],
          [
           "C"
          ],
          [
           "TE"
          ],
          [
           "G"
          ],
          [
           "CB"
          ],
          [
           "CB"
          ],
          [
           "ILB"
          ],
          [
           "FS"
          ],
          [
           "ILB"
          ],
          [
           "NT"
          ],
          [
           "RB"
          ],
          [
           "CB"
          ],
          [
           "WR"
          ],
          [
           "T"
          ],
          [
           "DE"
          ],
          [
           "WR"
          ],
          [
           "ILB"
          ],
          [
           "C"
          ],
          [
           "OLB"
          ],
          [
           "DE"
          ],
          [
           "RB"
          ],
          [
           "NT"
          ],
          [
           "CB"
          ],
          [
           "TE"
          ],
          [
           "FS"
          ],
          [
           "RB"
          ],
          [
           "TE"
          ],
          [
           "T"
          ],
          [
           "WR"
          ],
          [
           "CB"
          ],
          [
           "WR"
          ],
          [
           "DT"
          ],
          [
           "OLB"
          ],
          [
           "CB"
          ],
          [
           "T"
          ],
          [
           "G"
          ],
          [
           "TE"
          ],
          [
           "ILB"
          ],
          [
           "TE"
          ],
          [
           "DE"
          ],
          [
           "RB"
          ],
          [
           "T"
          ],
          [
           "SS"
          ],
          [
           "OLB"
          ],
          [
           "CB"
          ],
          [
           "T"
          ],
          [
           "DE"
          ],
          [
           "WR"
          ],
          [
           "DT"
          ],
          [
           "G"
          ],
          [
           "CB"
          ],
          [
           "T"
          ],
          [
           "TE"
          ],
          [
           "FS"
          ],
          [
           "CB"
          ],
          [
           "CB"
          ],
          [
           "OLB"
          ],
          [
           "CB"
          ],
          [
           "NT"
          ],
          [
           "SS"
          ],
          [
           "CB"
          ],
          [
           "WR"
          ],
          [
           "SS"
          ],
          [
           "OLB"
          ],
          [
           "RB"
          ],
          [
           "ILB"
          ],
          [
           "WR"
          ],
          [
           "FS"
          ],
          [
           "DT"
          ],
          [
           "C"
          ],
          [
           "DE"
          ],
          [
           "DT"
          ],
          [
           "RB"
          ],
          [
           "DT"
          ],
          [
           "RB"
          ],
          [
           "CB"
          ],
          [
           "RB"
          ],
          [
           "WR"
          ],
          [
           "T"
          ],
          [
           "T"
          ],
          [
           "WR"
          ],
          [
           "OLB"
          ],
          [
           "RB"
          ],
          [
           "SS"
          ],
          [
           "CB"
          ],
          [
           "G"
          ],
          [
           "OLB"
          ],
          [
           "RB"
          ],
          [
           "QB"
          ],
          [
           "ILB"
          ],
          [
           "G"
          ],
          [
           "FS"
          ],
          [
           "WR"
          ],
          [
           "C"
          ],
          [
           "T"
          ],
          [
           "DT"
          ],
          [
           "OLB"
          ],
          [
           "G"
          ],
          [
           "G"
          ],
          [
           "OLB"
          ],
          [
           "DE"
          ],
          [
           "FS"
          ],
          [
           "DE"
          ],
          [
           "G"
          ],
          [
           "WR"
          ],
          [
           "NT"
          ],
          [
           "RB"
          ],
          [
           "WR"
          ],
          [
           "RB"
          ],
          [
           "WR"
          ],
          [
           "DT"
          ],
          [
           "TE"
          ],
          [
           "OLB"
          ],
          [
           "T"
          ],
          [
           "WR"
          ],
          [
           "TE"
          ],
          [
           "RB"
          ],
          [
           "FS"
          ],
          [
           "CB"
          ],
          [
           "TE"
          ],
          [
           "G"
          ],
          [
           "T"
          ],
          [
           "CB"
          ],
          [
           "DE"
          ],
          [
           "DT"
          ],
          [
           "FB"
          ],
          [
           "TE"
          ],
          [
           "DT"
          ],
          [
           "FB"
          ],
          [
           "T"
          ],
          [
           "TE"
          ],
          [
           "CB"
          ],
          [
           "CB"
          ],
          [
           "TE"
          ],
          [
           "CB"
          ],
          [
           "T"
          ],
          [
           "WR"
          ],
          [
           "TE"
          ],
          [
           "RB"
          ],
          [
           "OLB"
          ],
          [
           "WR"
          ],
          [
           "OLB"
          ],
          [
           "DE"
          ],
          [
           "CB"
          ],
          [
           "CB"
          ],
          [
           "OLB"
          ],
          [
           "T"
          ],
          [
           "T"
          ],
          [
           "WR"
          ],
          [
           "T"
          ],
          [
           "WR"
          ],
          [
           "WR"
          ],
          [
           "DT"
          ],
          [
           "SS"
          ],
          [
           "G"
          ],
          [
           "WR"
          ],
          [
           "G"
          ],
          [
           "WR"
          ],
          [
           "QB"
          ],
          [
           "CB"
          ],
          [
           "ILB"
          ],
          [
           "CB"
          ],
          [
           "T"
          ],
          [
           "C"
          ],
          [
           "OLB"
          ],
          [
           "ILB"
          ],
          [
           "DE"
          ],
          [
           "G"
          ],
          [
           "DE"
          ],
          [
           "FS"
          ],
          [
           "FS"
          ],
          [
           "DE"
          ],
          [
           "WR"
          ],
          [
           "CB"
          ],
          [
           "RB"
          ],
          [
           "FS"
          ],
          [
           "OLB"
          ],
          [
           "CB"
          ],
          [
           "OLB"
          ],
          [
           "RB"
          ],
          [
           "WR"
          ],
          [
           "DE"
          ],
          [
           "DT"
          ],
          [
           "SS"
          ],
          [
           "CB"
          ],
          [
           "WR"
          ],
          [
           "G"
          ],
          [
           "WR"
          ],
          [
           "WR"
          ],
          [
           "WR"
          ],
          [
           "TE"
          ],
          [
           "DE"
          ],
          [
           "G"
          ],
          [
           "ILB"
          ],
          [
           "G"
          ],
          [
           "CB"
          ],
          [
           "DE"
          ],
          [
           "FS"
          ],
          [
           "RB"
          ],
          [
           "OLB"
          ],
          [
           "C"
          ],
          [
           "ILB"
          ],
          [
           "G"
          ],
          [
           "CB"
          ],
          [
           "T"
          ],
          [
           "ILB"
          ],
          [
           "WR"
          ],
          [
           "T"
          ],
          [
           "TE"
          ],
          [
           "ILB"
          ],
          [
           "DT"
          ],
          [
           "T"
          ],
          [
           "DE"
          ],
          [
           "TE"
          ],
          [
           "CB"
          ],
          [
           "OLB"
          ],
          [
           "ILB"
          ],
          [
           "DE"
          ],
          [
           "CB"
          ],
          [
           "QB"
          ],
          [
           "OLB"
          ],
          [
           "WR"
          ],
          [
           "MLB"
          ],
          [
           "G"
          ],
          [
           "RB"
          ],
          [
           "RB"
          ],
          [
           "DT"
          ],
          [
           "SS"
          ],
          [
           "FS"
          ],
          [
           "RB"
          ],
          [
           "WR"
          ],
          [
           "OLB"
          ],
          [
           "TE"
          ],
          [
           "ILB"
          ],
          [
           "OLB"
          ],
          [
           "WR"
          ],
          [
           "TE"
          ],
          [
           "RB"
          ],
          [
           "DT"
          ],
          [
           "CB"
          ],
          [
           "T"
          ],
          [
           "T"
          ],
          [
           "TE"
          ],
          [
           "FS"
          ],
          [
           "SS"
          ],
          [
           "CB"
          ],
          [
           "DE"
          ],
          [
           "DE"
          ],
          [
           "CB"
          ],
          [
           "CB"
          ],
          [
           "ILB"
          ],
          [
           "CB"
          ],
          [
           "RB"
          ],
          [
           "RB"
          ],
          [
           "DT"
          ],
          [
           "RB"
          ],
          [
           "TE"
          ],
          [
           "RB"
          ],
          [
           "WR"
          ],
          [
           "G"
          ],
          [
           "CB"
          ],
          [
           "G"
          ],
          [
           "QB"
          ],
          [
           "TE"
          ],
          [
           "T"
          ],
          [
           "CB"
          ],
          [
           "CB"
          ],
          [
           "TE"
          ],
          [
           "MLB"
          ],
          [
           "DT"
          ],
          [
           "WR"
          ],
          [
           "TE"
          ],
          [
           "DT"
          ],
          [
           "RB"
          ],
          [
           "CB"
          ],
          [
           "RB"
          ],
          [
           "CB"
          ],
          [
           "DT"
          ],
          [
           "DT"
          ],
          [
           "WR"
          ],
          [
           "WR"
          ],
          [
           "CB"
          ],
          [
           "T"
          ],
          [
           "TE"
          ],
          [
           "C"
          ],
          [
           "CB"
          ],
          [
           "DE"
          ],
          [
           "DT"
          ],
          [
           "ILB"
          ],
          [
           "TE"
          ],
          [
           "DT"
          ],
          [
           "OLB"
          ],
          [
           "OLB"
          ],
          [
           "RB"
          ],
          [
           "CB"
          ],
          [
           "G"
          ],
          [
           "ILB"
          ],
          [
           "OLB"
          ],
          [
           "WR"
          ],
          [
           "G"
          ],
          [
           "TE"
          ],
          [
           "DE"
          ],
          [
           "RB"
          ],
          [
           "WR"
          ],
          [
           "RB"
          ],
          [
           "DE"
          ],
          [
           "TE"
          ],
          [
           "CB"
          ],
          [
           "C"
          ],
          [
           "TE"
          ],
          [
           "CB"
          ],
          [
           "CB"
          ],
          [
           "DE"
          ],
          [
           "OLB"
          ],
          [
           "WR"
          ],
          [
           "CB"
          ],
          [
           "T"
          ],
          [
           "FS"
          ],
          [
           "CB"
          ],
          [
           "CB"
          ],
          [
           "CB"
          ],
          [
           "QB"
          ],
          [
           "RB"
          ],
          [
           "DE"
          ],
          [
           "SS"
          ],
          [
           "OLB"
          ],
          [
           "WR"
          ],
          [
           "RB"
          ],
          [
           "QB"
          ],
          [
           "NT"
          ],
          [
           "WR"
          ],
          [
           "OLB"
          ],
          [
           "OLB"
          ],
          [
           "CB"
          ],
          [
           "ILB"
          ],
          [
           "TE"
          ],
          [
           "WR"
          ],
          [
           "DE"
          ],
          [
           "FS"
          ],
          [
           "TE"
          ],
          [
           "WR"
          ],
          [
           "DE"
          ],
          [
           "RB"
          ],
          [
           "SS"
          ],
          [
           "WR"
          ],
          [
           "CB"
          ],
          [
           "SS"
          ],
          [
           "WR"
          ],
          [
           "DT"
          ],
          [
           "NT"
          ],
          [
           "OLB"
          ],
          [
           "WR"
          ],
          [
           "CB"
          ],
          [
           "RB"
          ],
          [
           "DE"
          ],
          [
           "DT"
          ],
          [
           "OLB"
          ],
          [
           "FB"
          ],
          [
           "OLB"
          ],
          [
           "DT"
          ],
          [
           "WR"
          ],
          [
           "OLB"
          ],
          [
           "CB"
          ],
          [
           "OLB"
          ],
          [
           "WR"
          ],
          [
           "RB"
          ],
          [
           "G"
          ],
          [
           "WR"
          ],
          [
           "DE"
          ],
          [
           "RB"
          ],
          [
           "FS"
          ],
          [
           "RB"
          ],
          [
           "TE"
          ],
          [
           "WR"
          ],
          [
           "WR"
          ],
          [
           "WR"
          ],
          [
           "DT"
          ],
          [
           "ILB"
          ],
          [
           "CB"
          ],
          [
           "DE"
          ],
          [
           "DT"
          ],
          [
           "DT"
          ],
          [
           "CB"
          ],
          [
           "DT"
          ]
         ],
         "hovertemplate": "<b>%{text}</b><br>Position: %{customdata[0]}<br>Weight: %{x} lbs <br>Height: %{y} inches",
         "legendgroup": "",
         "marker": {
          "color": "#636efa",
          "symbol": "circle"
         },
         "mode": "markers",
         "name": "",
         "showlegend": false,
         "text": [
          "Tom Brady",
          "Jason Peters",
          "Aaron Rodgers",
          "Marcedes Lewis",
          "Matt Ryan",
          "Joe Flacco",
          "Duane Brown",
          "DeSean Jackson",
          "Calais Campbell",
          "Chad Henne",
          "Matt Slater",
          "Matthew Stafford",
          "Chase Daniel",
          "Brian Hoyer",
          "Trent Williams",
          "Tyson Alualu",
          "Brandon Graham",
          "Jason Pierre-Paul",
          "Kareem Jackson",
          "Devin McCourty",
          "Jerry Hughes",
          "Rodger Saffold",
          "Carlos Dunlap",
          "Corey Peters",
          "Al Woods",
          "Ty Nsekhe",
          "Von Miller",
          "A.J. Green",
          "Patrick Peterson",
          "Julio Jones",
          "J.J. Watt",
          "Robert Quinn",
          "Cameron Jordan",
          "Mark Ingram",
          "Cameron Heyward",
          "Andy Dalton",
          "Kyle Rudolph",
          "Rodney Hudson",
          "Randall Cobb",
          "Justin Houston",
          "Marcus Cannon",
          "Tyrod Taylor",
          "Jason Kelce",
          "Lawrence Guy",
          "Chris Harris",
          "Josh Bynes",
          "Nick Bellore",
          "Mario Addison",
          "Ryan Tannehill",
          "Stephon Gilmore",
          "Fletcher Cox",
          "Michael Brockers",
          "Bruce Irvin",
          "Melvin Ingram",
          "Chandler Jones",
          "Riley Reiff",
          "Kevin Zeitler",
          "Harrison Smith",
          "Bobby Wagner",
          "Lavonte David",
          "Vinny Curry",
          "Casey Hayward",
          "Russell Wilson",
          "Demario Davis",
          "Nick Foles",
          "Akiem Hicks",
          "Ben Jones",
          "Kirk Cousins",
          "Dennis Kelly",
          "Marvin Jones",
          "Justin Bethel",
          "Kelvin Beachum",
          "Rodney McLeod",
          "Michael Thomas",
          "Tashaun Gipson",
          "Case Keenum",
          "Cole Beasley",
          "Brandon Bolden",
          "Josh Gordon",
          "Greg Van Roten",
          "Erik Harris",
          "Chris Banjo",
          "Lane Johnson",
          "Justin Pugh",
          "DeAndre Hopkins",
          "Cordarrelle Patterson",
          "Zach Ertz",
          "Darius Slay",
          "Geno Smith",
          "Robert Woods",
          "Johnathan Hankins",
          "Jon Bostic",
          "Jamie Collins",
          "Travis Kelce",
          "Tyrann Mathieu",
          "Terron Armstead",
          "Keenan Allen",
          "Marquise Goodwin",
          "John Jenkins",
          "Logan Ryan",
          "Duron Harmon",
          "Akeem Spence",
          "David Bakhtiari",
          "William Gholston",
          "Kyle Juszczyk",
          "Oday Aboushi",
          "Steven Means",
          "A.J. Klein",
          "Micah Hyde",
          "David Quessenberry",
          "Latavius Murray",
          "Rex Burkhead",
          "Ryan Griffin",
          "Jordan Poyer",
          "Nicholas Williams",
          "Mike Purcell",
          "Brandon Copeland",
          "Adam Thielen",
          "Nickell Robey",
          "Tony Jefferson",
          "James Ferentz",
          "Jadeveon Clowney",
          "Sammy Watkins",
          "Khalil Mack",
          "Jake Matthews",
          "Mike Evans",
          "Anthony Barr",
          "Taylor Lewan",
          "Aaron Donald",
          "Kyle Fuller",
          "Zack Martin",
          "C.J. Mosley",
          "Ja'Wuan James",
          "Brandin Cooks",
          "Jimmie Ward",
          "Bradley Roby",
          "Teddy Bridgewater",
          "Demarcus Lawrence",
          "Joel Bitonio",
          "Derek Carr",
          "Kyle Van Noy",
          "Lamarcus Joyner",
          "Jeremiah Attaochu",
          "Davante Adams",
          "Allen Robinson",
          "Jimmy Garoppolo",
          "Jarvis Landry",
          "Justin Britt",
          "Morgan Moses",
          "Billy Turner",
          "Christian Kirksey",
          "Gabe Jackson",
          "Trai Turner",
          "Michael Schofield",
          "Jerick McKinnon",
          "Richard Rodgers",
          "Justin Ellis",
          "DaQuan Jones",
          "Logan Thomas",
          "Dontae Johnson",
          "Kevin Pierre-Louis",
          "Brent Urban",
          "Cameron Fleming",
          "Corey Linsley",
          "Devon Kennard",
          "Shelby Harris",
          "Charles Leno",
          "Terrance Mitchell",
          "Willie Snead",
          "Daniel Sorensen",
          "James Hurst",
          "Cornelius Lucas",
          "Mike Pennel",
          "Joe Thomas",
          "Justin McCray",
          "Tyler Shatley",
          "Josh Wells",
          "Tyler Larsen",
          "Damien Williams",
          "Kerry Hyder",
          "Keith Smith",
          "Shaquil Barrett",
          "Andrew Norwell",
          "Christian Jones",
          "Matt Feiler",
          "K'Waun Williams",
          "Denico Autry",
          "Cameron Brate",
          "Adrian Phillips",
          "Chris Manhertz",
          "Efe Obada",
          "Jameis Winston",
          "Marcus Mariota",
          "Dante Fowler",
          "Amari Cooper",
          "Brandon Scherff",
          "Leonard Williams",
          "Kevin White",
          "Andrus Peat",
          "DeVante Parker",
          "Melvin Gordon",
          "Arik Armstead",
          "Marcus Peters",
          "Cameron Erving",
          "Nelson Agholor",
          "Cedric Ogbuehi",
          "Bud Dupree",
          "D.J. Humphries",
          "Shaq Thompson",
          "Breshad Perriman",
          "Laken Tomlinson",
          "Phillip Dorsett",
          "Landon Collins",
          "Donovan Smith",
          "Mario Edwards",
          "Preston Smith",
          "Eric Kendricks",
          "Eric Rowe",
          "Denzel Perryman",
          "Mitch Morse",
          "Ronald Darby",
          "Jordan Phillips",
          "Ameer Abdullah",
          "Maxx Williams",
          "Rob Havenstein",
          "Markus Golden",
          "Randy Gregory",
          "Frank Clark",
          "A.J. Cann",
          "Tyler Lockett",
          "Tevin Coleman",
          "Chris Conley",
          "P.J. Williams",
          "Jordan Hicks",
          "Tyler Kroft",
          "Danielle Hunter",
          "Carl Davis",
          "Henry Anderson",
          "Ty Montgomery",
          "Steven Nelson",
          "Angelo Blackson",
          "Trey Flowers",
          "Jamison Crowder",
          "Za'Darius Smith",
          "Kwon Alexander",
          "Mike Davis",
          "Damien Wilson",
          "Jon Feliciano",
          "Shaquille Mason",
          "Max Garcia",
          "Mark Glowinski",
          "Grady Jarrett",
          "Adrian Amos",
          "MyCole Pruitt",
          "Bobby McCain",
          "Stefon Diggs",
          "C.J. Uzomah",
          "Jesse James",
          "Michael Burton",
          "David Mayo",
          "Nick Boyle",
          "Quandre Diggs",
          "Darren Waller",
          "Christian Ringo",
          "Christian Covington",
          "Rakeem Nunez-Roches",
          "Bobby Hart",
          "Trenton Brown",
          "Geoff Swaim",
          "Trevor Siemian",
          "La'el Collins",
          "Raheem Mostert",
          "Eric Tomlinson",
          "Neville Hewitt",
          "DeAndre Carter",
          "Troy Hill",
          "Jake Kumerow",
          "DeShawn Williams",
          "Justin Coleman",
          "Taylor Heinicke",
          "Malcolm Brown",
          "David Andrews",
          "Damiere Byrd",
          "Dean Marlowe",
          "Alex Singleton",
          "Bryce Callahan",
          "Greg Mancz",
          "T.Y. McGill",
          "Jared Goff",
          "Carson Wentz",
          "Joey Bosa",
          "Ezekiel Elliott",
          "Jalen Ramsey",
          "Ronnie Stanley",
          "DeForest Buckner",
          "Jack Conklin",
          "Leonard Floyd",
          "Eli Apple",
          "Sheldon Rankins",
          "Laremy Tunsil",
          "Taylor Decker",
          "Keanu Neal",
          "Ryan Kelly",
          "Shaq Lawson",
          "William Jackson",
          "Artie Burns",
          "Kenny Clark",
          "Emmanuel Ogbah",
          "Jaylon Smith",
          "Hunter Henry",
          "Myles Jack",
          "Chris Jones",
          "Xavien Howard",
          "Sterling Shepard",
          "Austin Johnson",
          "Jihad Ward",
          "Derrick Henry",
          "A'Shawn Robinson",
          "Michael Thomas",
          "Jarran Reed",
          "Nick Martin",
          "Deion Jones",
          "Tyler Boyd",
          "Cody Whitehair",
          "Vonn Bell",
          "James Bradberry",
          "Adam Gotsis",
          "Kevin Byard",
          "Carl Nassib",
          "Maliek Collins",
          "Yannick Ngakoue",
          "Jonathan Bullard",
          "Kenyan Drake",
          "Daryl Worley",
          "Joe Thuney",
          "Isaac Seumalo",
          "Austin Hooper",
          "Kendall Fuller",
          "Nick Vigil",
          "Javon Hargrave",
          "Jacoby Brissett",
          "Nick Vannett",
          "Graham Glasgow",
          "Justin Simmons",
          "Joe Schobert",
          "Eric Murray",
          "Chris Moore",
          "Tyler Higbee",
          "Miles Killebrew",
          "De'Vondre Campbell",
          "Hassan Ridgeway",
          "Juston Burris",
          "David Onyemata",
          "Andrew Billings",
          "Deon Bush",
          "Demarcus Robinson",
          "Blake Martinez",
          "Dak Prescott",
          "Dean Lowry",
          "Connor McGovern",
          "Matt Judon",
          "Quinton Jefferson",
          "Jordan Howard",
          "Matt Ioannidis",
          "Joe Haeg",
          "Jonathan Williams",
          "Brandon Shell",
          "Tyreek Hill",
          "D.J. Reader",
          "Rashard Higgins",
          "DeAndre Houston-Carson",
          "Anthony Brown",
          "Wes Schweitzer",
          "Derek Watt",
          "Brandon Allen",
          "Mike Thomas",
          "Jeff Driskel",
          "Kamu Grugier-Hill",
          "Elandon Roberts",
          "Will Parks",
          "Ted Karras",
          "Jalen Mills",
          "Dwayne Washington",
          "Jayron Kearse",
          "Clayton Fejedelem",
          "Austin Blythe",
          "Kalif Raymond",
          "George Fant",
          "Matthias Farley",
          "Mike Hilton",
          "Michael Pierce",
          "Jonathan Jones",
          "J.D. McKissic",
          "Andrew Adams",
          "Brandin Bryant",
          "Roy Robertson-Harris",
          "Morgan Fox",
          "Cory Littleton",
          "Robbie Chosen",
          "Jake Brendel",
          "Stephen Anderson",
          "Antwaun Woods",
          "C.J. Ham",
          "Antonio Hamilton",
          "Marcus Johnson",
          "J.P. Holtz",
          "Lucas Patrick",
          "Sam Eguavoen",
          "Mo Alie-Cox",
          "Myles Garrett",
          "Mitchell Trubisky",
          "Solomon Thomas",
          "Leonard Fournette",
          "Corey Davis",
          "Jamal Adams",
          "Mike Williams",
          "Christian McCaffrey",
          "Patrick Mahomes",
          "Marshon Lattimore",
          "Haason Reddick",
          "Derek Barnett",
          "Malik Hooker",
          "Marlon Humphrey",
          "Jonathan Allen",
          "Adoree' Jackson",
          "O.J. Howard",
          "Garett Bolles",
          "Charles Harris",
          "Evan Engram",
          "Jabrill Peppers",
          "Takkarist McKinley",
          "David Njoku",
          "T.J. Watt",
          "Ryan Ramczyk",
          "Cam Robinson",
          "Budda Baker",
          "Zay Jones",
          "Marcus Maye",
          "Curtis Samuel",
          "Dalvin Cook",
          "Marcus Williams",
          "Sidney Jones",
          "Gerald Everett",
          "Quincy Wilson",
          "Tyus Bowser",
          "Joe Mixon",
          "Ryan Anderson",
          "Justin Evans",
          "DeMarcus Walker",
          "Raekwon McMillan",
          "Dalvin Tomlinson",
          "Zach Cunningham",
          "Ethan Pocic",
          "Tanoh Kpassagnon",
          "Chidobe Awuzie",
          "Josh Jones",
          "JuJu Smith-Schuster",
          "Dion Dawkins",
          "Taylor Moton",
          "Larry Ogunjobi",
          "Ahkello Witherspoon",
          "Alvin Kamara",
          "Dawuane Smoot",
          "Cooper Kupp",
          "Pat Elflein",
          "Chris Wormley",
          "Duke Riley",
          "Alex Anzalone",
          "Tarell Basham",
          "Fabian Moreau",
          "Chris Godwin",
          "Kareem Hunt",
          "D'Onta Foreman",
          "Shaquill Griffin",
          "John Johnson",
          "Jourdan Lewis",
          "Montravius Adams",
          "Cameron Sutton",
          "Kenny Golladay",
          "Rasul Douglas",
          "Jonnu Smith",
          "Trey Hendrickson",
          "C.J. Beathard",
          "James Conner",
          "Jaleel Johnson",
          "Eddie Jackson",
          "Rayshawn Jenkins",
          "Samaje Perine",
          "Carl Lawson",
          "Josh Reynolds",
          "Mack Hollins",
          "Jalen Reeves-Maybin",
          "Samson Ebukam",
          "Deatrich Wise",
          "Jamaal Williams",
          "Sean Harlow",
          "Carlos Watkins",
          "Grover Stewart",
          "George Kittle",
          "Desmond King",
          "Jayon Brown",
          "Jermaine Eluemunor",
          "Anthony Walker",
          "Matt Milano",
          "Jamal Agnew",
          "Isaiah McKenzie",
          "Eric Saubert",
          "Trent Taylor",
          "Davon Godchaux",
          "Aaron Jones",
          "Chuck Clark",
          "Xavier Woods",
          "Alex Armah",
          "Tanner Vallejo",
          "Al-Quadin Muhammad",
          "D.J. Jones",
          "Chase Roullier",
          "Rudy Ford",
          "Conor McDermott",
          "Corey Levin",
          "Ifeadi Odenigbo",
          "Isaac Rochell",
          "Elijah Lee",
          "Noah Brown",
          "Kyle Fuller",
          "Pat O'Connor",
          "Mason Schreck",
          "Daniel Brunskill",
          "Johnny Mundt",
          "Zach Pascal",
          "P.J. Walker",
          "Kendrick Bourne",
          "Matt Breida",
          "Tashawn Bower",
          "Eric Wilson",
          "Cethan Carter",
          "Josh Tupou",
          "Taysom Hill",
          "Patrick Ricard",
          "Cody Hollister",
          "Jacob Hollister",
          "Kenny Moore",
          "Pharaoh Brown",
          "Nicholas Morrow",
          "Austin Calitro",
          "Anthony Firkser",
          "Marcus Kemp",
          "Arthur Maulet",
          "Tanner Gentry",
          "Joseph Jones",
          "Cooper Rush",
          "Elijah Wilkinson",
          "Keelan Cole",
          "Michael Davis",
          "Austin Ekeler",
          "Storm Norton",
          "Robert Tonyan",
          "Dylan Cole",
          "Andrew Wylie",
          "Dare Ogunbowale",
          "Dan Skipper",
          "Dan Arnold",
          "Michael Dunn",
          "River Cracraft",
          "Baker Mayfield",
          "Saquon Barkley",
          "Denzel Ward",
          "Bradley Chubb",
          "Quenton Nelson",
          "Josh Allen",
          "Roquan Smith",
          "Mike McGlinchey",
          "Minkah Fitzpatrick",
          "Vita Vea",
          "Daron Payne",
          "Marcus Davenport",
          "Kolton Miller",
          "Tremaine Edmunds",
          "Derwin James",
          "Jaire Alexander",
          "Leighton Vander Esch",
          "Frank Ragnow",
          "Billy Price",
          "Rashaan Evans",
          "Isaiah Wynn",
          "D.J. Moore",
          "Hayden Hurst",
          "Rashaad Penny",
          "Terrell Edmunds",
          "Taven Bryan",
          "Mike Hughes",
          "Sony Michel",
          "Lamar Jackson",
          "Austin Corbett",
          "Will Hernandez",
          "Nick Chubb",
          "Shaquille Leonard",
          "Braden Smith",
          "James Daniels",
          "Courtland Sutton",
          "Mike Gesicki",
          "Dante Pettis",
          "Josh Jackson",
          "Christian Kirk",
          "Uchenna Nwosu",
          "Dallas Goedert",
          "Connor Williams",
          "Kemoko Turay",
          "M.J. Stewart",
          "Jessie Bates",
          "Donte Jackson",
          "Isaiah Oliver",
          "D.J. Chark",
          "Brian O'Neill",
          "Carlton Davis",
          "Tyquan Lewis",
          "Lorenzo Carter",
          "Justin Reid",
          "B.J. Hill",
          "Fred Warner",
          "Nathan Shepherd",
          "Jerome Baker",
          "Geron Christian",
          "Derrick Nnadi",
          "Sam Hubbard",
          "Rasheem Green",
          "Michael Gallup",
          "Tracy Walker",
          "Orlando Brown",
          "Justin Jones",
          "Mark Andrews",
          "Arden Key",
          "Oren Burks",
          "Joseph Noteboom",
          "Deadrin Senat",
          "Tre'Quan Smith",
          "Chukwuma Okorafor",
          "Ronnie Harrison",
          "Alex Cappa",
          "Tarvarius Moore",
          "Harrison Phillips",
          "Mason Cole",
          "Jordan Akins",
          "Isaac Yiadom",
          "Ian Thomas",
          "Keke Coutee",
          "Nyheim Hines",
          "Josey Jewell",
          "Brian Allen",
          "Da'Shawn Hand",
          "Dorance Armstrong",
          "Jordan Whitehead",
          "Anthony Averett",
          "Kyzir White",
          "Will Dissly",
          "Taron Johnson",
          "Durham Smythe",
          "Avonte Maddox",
          "Kentavius Street",
          "Josh Sweat",
          "Chase Edmonds",
          "John Franklin-Myers",
          "Marquis Haynes",
          "Dalton Schultz",
          "D.J. Reed",
          "Ja'Whaun Bentley",
          "Justin Watson",
          "Bilal Nichols",
          "Tre Flowers",
          "Genard Avery",
          "Siran Neal",
          "Scott Quessenberry",
          "Tyler Conklin",
          "Ogbonnia Okoronkwo",
          "Tim Settle",
          "Wyatt Teller",
          "Jordan Wilkins",
          "Marquez Valdes-Scantling",
          "Folorunso Fatukasi",
          "Marcell Harris",
          "Jake Martin",
          "Ray-Ray McCloud",
          "DeShon Elliott",
          "Russell Gage",
          "Sebastian Joseph",
          "Foyesade Oluokun",
          "Boston Scott",
          "Matt Pryor",
          "Equanimeous St. Brown",
          "Cedrick Wilson",
          "Cornell Armstrong",
          "Braxton Berrios",
          "Colby Gossett",
          "Bradley Bozeman",
          "Matthew Adams",
          "Javon Wims",
          "Jordan Mailata",
          "Zaire Franklin",
          "Zach Sieler",
          "Richie James",
          "Keion Crossen",
          "Will Clapp",
          "Justin Jackson",
          "Danny Johnson",
          "Ross Dwelley",
          "Jeremiah Kolone",
          "George Odum",
          "Emmanuel Moseley",
          "Cam Sims",
          "Phillip Lindsay",
          "Austin Schlottmann",
          "Coleman Shelton",
          "Jeffery Wilson",
          "J.T. Gray",
          "Kendal Vickers",
          "J.C. Hassenauer",
          "Chris Lammons",
          "Gus Edwards",
          "Kevin Rader",
          "Darious Williams",
          "Olasunkanmi Adeniyi",
          "Mike Boone",
          "Poona Ford",
          "Elijah Campbell",
          "Daniel Ekuale",
          "Dontrell Hilliard",
          "Ben Niemann",
          "Byron Pringle",
          "Darrel Williams",
          "Frankie Luvu",
          "Keith Kirkwood",
          "Henry Mondeaux",
          "Taylor Stallworth",
          "Nick Gates",
          "Jalen Davis",
          "Jeremy Reaves",
          "Chandon Sullivan",
          "Dennis Gardeck",
          "Jonathan Owens",
          "Trent Sherfield",
          "Tavierre Thomas",
          "Ezekiel Turner",
          "Evan Brown",
          "Sean Chandler",
          "Grant Haley",
          "Levi Wallace",
          "Dee Delaney",
          "Tre Herndon",
          "Allen Lazard",
          "KC McDermott",
          "Ryan Neal",
          "Brandon Facyson",
          "Trenton Scott",
          "Charvarius Ward",
          "Abdullah Anderson",
          "J.C. Jackson",
          "Demone Harris",
          "Tanner Hudson",
          "Mike Ford",
          "Brandon Powell",
          "Matt Dickerson",
          "Joshua Kalu",
          "Robert Spillane",
          "Chris Board",
          "Josh Woods",
          "KhaDarel Hodge",
          "Malik Turner",
          "D'Ernest Johnson",
          "Jakob Johnson",
          "Kyler Murray",
          "Nick Bosa",
          "Quinnen Williams",
          "Clelin Ferrell",
          "Devin White",
          "Daniel Jones",
          "Josh Hines-Allen",
          "T.J. Hockenson",
          "Ed Oliver",
          "Devin Bush",
          "Jonah Williams",
          "Rashan Gary",
          "Christian Wilkins",
          "Chris Lindstrom",
          "Brian Burns",
          "Dexter Lawrence",
          "Garrett Bradbury",
          "Jeffery Simmons",
          "Noah Fant",
          "Darnell Savage",
          "Andre Dillard",
          "Tytus Howard",
          "Josh Jacobs",
          "Marquise Brown",
          "Montez Sweat",
          "Johnathan Abram",
          "Jerry Tillery",
          "L.J. Collier",
          "Kaleb McGary",
          "N'Keal Harry",
          "Byron Murphy",
          "Rock Ya-Sin",
          "Jawaan Taylor",
          "Deebo Samuel",
          "Greg Little",
          "Cody Ford",
          "Sean Murphy-Bunting",
          "Trayvon Mullen",
          "Dalton Risner",
          "Jahlani Tavai",
          "Elgton Jenkins",
          "Greedy Williams",
          "Marquise Blair",
          "Erik McCoy",
          "Ben Banogu",
          "Irv Smith",
          "A.J. Brown",
          "Drew Sample",
          "Miles Sanders",
          "Lonnie Johnson",
          "Max Scharping",
          "Mecole Hardman",
          "Trysten Hill",
          "Parris Campbell",
          "Nasir Adderley",
          "Taylor Rapp",
          "Andy Isabella",
          "Juan Thornhill",
          "DK Metcalf",
          "Zach Allen",
          "Diontae Johnson",
          "Josh Oliver",
          "Darrell Henderson",
          "Dre'Mont Jones",
          "Germaine Pratt",
          "David Montgomery",
          "Devin Singletary",
          "Terry McLaurin",
          "Chase Winovich",
          "David Long",
          "Sione Takitaki",
          "Will Harris",
          "Nate Davis",
          "Justin Layne",
          "Khalen Saunders",
          "Damien Harris",
          "Cody Barton",
          "Bobby Okereke",
          "Connor McGovern",
          "Trey Pipkins",
          "Miles Boykin",
          "Jamel Dean",
          "Oshane Ximines",
          "Dawson Knox",
          "Bobby Evans",
          "Quincy Williams",
          "Mike Edwards",
          "Yodny Cajuste",
          "Alexander Mattison",
          "Chauncey Gardner-Johnson",
          "Maxx Crosby",
          "Anthony Nelson",
          "Julian Love",
          "Justice Hill",
          "Amani Hooker",
          "Austin Bryant",
          "Hjalte Froholdt",
          "Trevon Wesco",
          "Ben Powers",
          "Phil Haynes",
          "Tony Pollard",
          "Drue Tranquill",
          "Wes Martin",
          "Ugochukwu Amadi",
          "Jarrett Stidham",
          "Greg Gaines",
          "John Cominsky",
          "Foster Moreau",
          "Deionte Thompson",
          "Zach Gentry",
          "Amani Oruwariye",
          "Dre Greenlaw",
          "Hunter Renfrow",
          "Andrew Van Ginkel",
          "Mack Wilson",
          "Justin Hollins",
          "Blake Cashman",
          "Michael Jackson",
          "Byron Cowart",
          "Charles Omenihu",
          "E.J. Speed",
          "David Edwards",
          "Darius Slayton",
          "Cole Holcomb",
          "Gardner Minshew",
          "Jaquan Johnson",
          "Ty Johnson",
          "Juwann Winfree",
          "David Long",
          "Armon Watts",
          "Marcus Epps",
          "Isaiah Buggs",
          "Olisaemeka Udoh",
          "Trace McSorley",
          "Rashad Fenton",
          "Travis Homer",
          "Scott Miller",
          "Dennis Daley",
          "Donovan Wilson",
          "Nick Allegretti",
          "Kris Boyd",
          "Darryl Johnson",
          "Tommy Sweeney",
          "Quinton Bell",
          "Myles Gaskin",
          "Jackson Barton",
          "Nick Scott",
          "Kaden Elliss",
          "Michael Dogbe",
          "Steven Sims",
          "Fred Johnson",
          "Malik Reed",
          "Brett Rypien",
          "Calvin Anderson",
          "Andrew Beck",
          "Jakobi Meyers",
          "Demetrius Flannigan-Fowles",
          "Ashton Dulin",
          "Penny Hart",
          "Kevin Givens",
          "Wyatt Ray",
          "Alex Bars",
          "Sam Mustipher",
          "Jonathan Harris",
          "Yosuah Nijman",
          "Bryan Mone",
          "Khari Blasingame",
          "Patrick Mekari",
          "Lester Cotton",
          "Alec Ingold",
          "Andre James",
          "Keisean Nixon",
          "Darius Harris",
          "Azeez Al-Shaair",
          "Jalen Dalton",
          "Jonathan Kongbo",
          "Devine Ozigbo",
          "Del'Shawn Phillips",
          "Olamide Zaccheaus",
          "Deonte Harty",
          "P.J. Locke",
          "C.J. Moore",
          "Matt Nelson",
          "Donald Parham",
          "Anthony Pittman",
          "Kevin Strong",
          "Trenton Irwin",
          "Jonathan Ledbetter",
          "Chris Myarick",
          "Nik Needham",
          "Tyrel Dodson",
          "Blake Hance",
          "Cameron Lewis",
          "David Sills",
          "Tae Hayes",
          "Saivion Smith",
          "Andrew Wingard",
          "Ryan Bates",
          "Nate Herbig",
          "Iosua Opeta",
          "T.J. Edwards",
          "Anthony Rush",
          "Stanley Morgan",
          "Carl Granderson",
          "Lil'Jordan Humphrey",
          "Shy Tuttle",
          "Luke Gifford",
          "Jalen Guyton",
          "Daniel Wise",
          "Jason Moore",
          "Matt Sokol",
          "Roderic Teamer",
          "Jordan Kunaszyk",
          "Tyron Johnson",
          "Greg Dortch",
          "Jeff Smith",
          "Isaiah Mack",
          "Tom Kennedy",
          "Joseph Fortson",
          "Jesper Horsted",
          "Craig Reynolds",
          "Parker Hesse",
          "Kendall Blanton",
          "Marquise Copeland",
          "Troy Reeder",
          "Chandler Brewer",
          "Gunner Olszewski",
          "Jalen Thompson",
          "Dee Alford",
          "Joe Burrow",
          "Jeff Okudah",
          "Andrew Thomas",
          "Tua Tagovailoa",
          "Justin Herbert",
          "Derrick Brown",
          "Isaiah Simmons",
          "C.J. Henderson",
          "Jedrick Wills",
          "Tristan Wirfs",
          "Javon Kinlaw",
          "Jerry Jeudy",
          "A.J. Terrell",
          "CeeDee Lamb",
          "Austin Jackson",
          "K'Lavon Chaisson",
          "Jalen Reagor",
          "Justin Jefferson",
          "Kenneth Murray",
          "Cesar Ruiz",
          "Brandon Aiyuk",
          "Jordan Love",
          "Jordyn Brooks",
          "Patrick Queen",
          "Noah Igbinoghene",
          "Clyde Edwards-Helaire",
          "Tee Higgins",
          "Michael Pittman",
          "D'Andre Swift",
          "Xavier McKinney",
          "Kyle Dugger",
          "Yetur Gross-Matos",
          "Robert Hunt",
          "Ross Blacklock",
          "Jonathan Taylor",
          "Laviska Shenault",
          "Cole Kmet",
          "Grant Delpit",
          "Antoine Winfield",
          "K.J. Hamler",
          "Darrell Taylor",
          "Chase Claypool",
          "Jaylon Johnson",
          "Trevon Diggs",
          "Cam Akers",
          "Jalen Hurts",
          "A.J. Epenesa",
          "J.K. Dobbins",
          "Raekwon Davis",
          "Van Jefferson",
          "Ezra Cleveland",
          "Denzel Mims",
          "Josh Uche",
          "Kristian Fulton",
          "A.J. Dillon",
          "Willie Gay",
          "Jeremy Chinn",
          "Logan Wilson",
          "Antonio Gibson",
          "Julian Okwara",
          "Ashtyn Davis",
          "Damien Lewis",
          "Brandon Jones",
          "Justin Madubuike",
          "Josh Jones",
          "Davon Hamilton",
          "Zack Baun",
          "Jonah Jackson",
          "Ke'Shawn Vaughn",
          "Michael Ojemudia",
          "Matt Hennessy",
          "Lynn Bowden",
          "Bryan Edwards",
          "Neville Gallimore",
          "Lloyd Cushenberry",
          "Terrell Lewis",
          "Julian Blackmon",
          "Zack Moss",
          "Anfernee Jennings",
          "Jordan Elliott",
          "Cameron Dantzler",
          "Jonathan Greenard",
          "Devin Asiasi",
          "Devin Duvernay",
          "Josiah Deguara",
          "Jacob Phillips",
          "Malik Harrison",
          "Alex Highsmith",
          "Terrell Burgess",
          "Adam Trautman",
          "Tyre Phillips",
          "Akeem Davis-Gaither",
          "Saahdiq Charles",
          "John Simpson",
          "Darnay Holmes",
          "Joshua Kelley",
          "Leki Fotu",
          "Harrison Bryant",
          "Ben Bartch",
          "D.J. Wonnum",
          "Albert Okwuegbunam",
          "Mykal Walker",
          "Logan Stenberg",
          "Jacob Eason",
          "Charlie Heck",
          "K'Von Wallace",
          "Gabe Davis",
          "James Lynch",
          "Rashard Lawrence",
          "Troy Dye",
          "Colby Parkinson",
          "Jaylinn Hawkins",
          "Kevin Dotson",
          "Brycen Hopkins",
          "Josiah Scott",
          "L'Jarius Sneed",
          "Amik Robertson",
          "Ben Bredeson",
          "DeeJay Dallas",
          "Jack Driscoll",
          "Tyler Biadasz",
          "Danny Pinter",
          "Colton McKivitz",
          "Trevis Gipson",
          "Bryce Hall",
          "Tyler Johnson",
          "Khaleke Hudson",
          "Kindle Vildor",
          "Quintez Cephus",
          "Broderick Washington",
          "Darnell Mooney",
          "Larrell Murchison",
          "K.J. Osborn",
          "Michael Danna",
          "Hakeem Adeniji",
          "Michael Onwenu",
          "Bravvion Roy",
          "Alohi Gilman",
          "Donovan Peoples-Jones",
          "Charlie Woerner",
          "Jon Runyan",
          "Justin Herron",
          "Jordan Fuller",
          "Quez Watkins",
          "James Proche",
          "Blake Brandel",
          "Josh Metellus",
          "Tyler Davis",
          "Isaiah Hodgins",
          "Jake Hanson",
          "Prince Tega Wanogho",
          "Isaiah Rodgers",
          "Dezmon Patmon",
          "Markus Bailey",
          "Kamren Curl",
          "Jauan Jennings",
          "Geno Stone",
          "Eno Benjamin",
          "James Smith-Williams",
          "Carlos Davis",
          "Casey Toohill",
          "Clay Johnston",
          "Dane Jackson",
          "Jonathan Garvin",
          "Chris Jackson",
          "Tremayne Anchrum",
          "Stephen Sullivan",
          "Tyrie Cleveland",
          "Derrek Tuszka",
          "Tae Crowder",
          "Malcolm Roach",
          "Calvin Throckmorton",
          "Mitchell Wilcox",
          "James Pierre",
          "Jonas Griffith",
          "Jamycal Hasty",
          "Binjimen Victor",
          "Ben Ellefson",
          "James Robinson",
          "Benito Jones",
          "Chris Williams",
          "Tony Jones",
          "Essang Bassey",
          "Kendall Hinton",
          "Andre Baccellia",
          "Tershawn Wharton",
          "Joe Bachie",
          "Michael Hoecht",
          "Jonah Williams",
          "Myles Adams",
          "Myles Hartsfield",
          "Giovanni Ricci",
          "Krys Barnes",
          "Delontae Scott",
          "Patrick Taylor",
          "Trystan Colon",
          "Elijah Riley",
          "Noah Togiai",
          "Bobby Price",
          "Salvon Ahmed",
          "Ladarius Hamilton",
          "Sean McKeon",
          "Terence Steele",
          "Juwan Johnson",
          "Jace Whittaker",
          "Benning Potoa'e",
          "Jamir Jones",
          "Juju Hughes",
          "Myles Bryant",
          "J.J. Taylor",
          "Nick Leverett",
          "A.J. Green",
          "Brandon Walton",
          "Rico Dowdle",
          "Lawrence Cager",
          "Domenique Davis",
          "Javelin Guidry",
          "Bryce Huff",
          "Lamar Jackson",
          "Kristian Welch",
          "Aaron Brewer",
          "Mason Kinsey",
          "Teair Tart",
          "Nick Westbrook-Ikhine",
          "Reggie Gilliam",
          "Antonio Williams",
          "Dieter Eiselen",
          "Marquez Callaway",
          "Kavontae Turpin",
          "Michael Bandy",
          "Aaron Patrick",
          "Trevor Lawrence",
          "Zach Wilson",
          "Trey Lance",
          "Kyle Pitts",
          "Ja'Marr Chase",
          "Jaylen Waddle",
          "Penei Sewell",
          "Jaycee Horn",
          "Patrick Surtain",
          "DeVonta Smith",
          "Justin Fields",
          "Micah Parsons",
          "Rashawn Slater",
          "Alijah Vera-Tucker",
          "Mac Jones",
          "Zaven Collins",
          "Jaelan Phillips",
          "Jamin Davis",
          "Kadarius Toney",
          "Kwity Paye",
          "Caleb Farley",
          "Christian Darrisaw",
          "Najee Harris",
          "Travis Etienne",
          "Greg Newsome",
          "Rashod Bateman",
          "Payton Turner",
          "Eric Stokes",
          "Gregory Rousseau",
          "Odafe Oweh",
          "Joe Tryon",
          "Tyson Campbell",
          "Elijah Moore",
          "Javonte Williams",
          "Jevon Holland",
          "Landon Dickerson",
          "Christian Barmore",
          "Teven Jenkins",
          "Richie Grant",
          "Liam Eichenberg",
          "Trevon Moehrig",
          "Kelvin Joseph",
          "Walker Little",
          "Asante Samuel",
          "Aaron Banks",
          "Rondale Moore",
          "Azeez Ojulari",
          "Samuel Cosmi",
          "Jeremiah Owusu-Koramoah",
          "Dillon Radunz",
          "Dayo Odeyingbo",
          "Pat Freiermuth",
          "D'Wayne Eskridge",
          "Tutu Atwell",
          "Nick Bolton",
          "Terrace Marshall",
          "Pete Werner",
          "Carlos Basham",
          "Josh Myers",
          "Creed Humphrey",
          "Andre Cisco",
          "Davis Mills",
          "Joseph Ossai",
          "Brady Christensen",
          "Aaron Robinson",
          "Alim McNeill",
          "Milton Williams",
          "Benjamin St-Juste",
          "Osa Odighizuwa",
          "Paulson Adebo",
          "Josh Palmer",
          "Malcolm Koonce",
          "Divine Deablo",
          "Hunter Long",
          "Dyami Brown",
          "Tommy Tremble",
          "Chauncey Golston",
          "Amari Rodgers",
          "Wyatt Davis",
          "Trey Sermon",
          "Nico Collins",
          "Patrick Jones",
          "Anthony Schwartz",
          "Monty Rice",
          "Spencer Brown",
          "Robert Hainsey",
          "Tre' McKitty",
          "Quinn Meinerz",
          "Ifeatu Melifonwu",
          "Ambry Thomas",
          "Ernest Jones",
          "Brandon Stephens",
          "Baron Browning",
          "Jay Tufele",
          "Michael Carter",
          "Darren Hall",
          "Dez Fitzpatrick",
          "James Hudson",
          "Cam Sample",
          "Amon-Ra St. Brown",
          "Derrick Barnes",
          "Drew Dalman",
          "Elerson Smith",
          "Chris Rumph",
          "Rhamondre Stevenson",
          "Tyler Shelvin",
          "Zech McPhearson",
          "John Bates",
          "Camryn Bynum",
          "Chuba Hubbard",
          "Kylen Granson",
          "Dan Moore",
          "Jaelon Darden",
          "Robert Rochell",
          "Tylan Wallace",
          "Tommy Togiai",
          "Rashad Weaver",
          "Marco Wilson",
          "D'Ante Smith",
          "Royce Newman",
          "Luke Farrell",
          "Jamien Sherwood",
          "Brevin Jordan",
          "Ta'Quon Graham",
          "Kenneth Gainwell",
          "Larry Borom",
          "Caden Sterns",
          "Tony Fields",
          "Michael Carter",
          "Jaylon Moore",
          "Isaiahh Loudermilk",
          "Ihmir Smith-Marsette",
          "Daviyon Nixon",
          "Brenden Jaimes",
          "Shaun Wade",
          "Tommy Doyle",
          "Noah Gray",
          "Darrick Forrest",
          "Keith Taylor",
          "Nate Hobbs",
          "Garret Wallow",
          "Deommodore Lenoir",
          "Tedarrell Slaton",
          "Jason Pinnock",
          "Shemar Jean-Charles",
          "Simi Fehoko",
          "Talanoa Hufanga",
          "Adetokunbo Ogundeji",
          "Avery Williams",
          "Hamsah Nasirildeen",
          "Frank Darby",
          "Joshuah Bledsoe",
          "Marlon Tuipulotu",
          "Trey Hill",
          "Tarron Jackson",
          "Quinton Bohanna",
          "Elijah Mitchell",
          "Roy Lopez",
          "Gary Brightwell",
          "Brandin Echols",
          "Chris Evans",
          "Shi Smith",
          "Landon Young",
          "Stone Forsythe",
          "Jalen Camp",
          "Victor Dimukeje",
          "Demetric Felton",
          "Damar Hamlin",
          "Rachad Wildgoose",
          "Cole Van Lanen",
          "Quincy Roche",
          "Khalil Herbert",
          "Sam Ehlinger",
          "Isaiah McDuffie",
          "Trey Smith",
          "Israel Mukuamu",
          "Mike Strachan",
          "Jimmy Morrissey",
          "Larnel Coleman",
          "Phil Hoskins",
          "Patrick Johnson",
          "Jack Anderson",
          "Matt Farniok",
          "Jonathon Cooper",
          "William Bradley-King",
          "Tre Norwood",
          "Shaka Toney",
          "Will Fries",
          "Ben Skowronek",
          "Khyiris Tonga",
          "Kylin Hill",
          "Dax Milne",
          "Deon Jackson",
          "Tim Jones",
          "Michael Dwumfour",
          "Kenny Yeboah",
          "Milo Eifler",
          "Devery Hamilton",
          "D.J. Turner",
          "Shane Zylstra",
          "Spencer Brown",
          "Ar'Darius Washington",
          "Nick McCloud",
          "Quintin Morris",
          "Robert Jones",
          "Alaric Jackson",
          "Dicaprio Bootle",
          "Malik Herring",
          "Marvin Wilson",
          "Tory Carter",
          "Miller Forristall",
          "Naquan Jones",
          "Adam Prentice",
          "Kayode Awosika",
          "Jack Stoll",
          "Jerry Jacobs",
          "A.J. Parker",
          "Brock Wright",
          "Bryce Thompson",
          "Jake Curhan",
          "Cade Johnson",
          "Feleipe Franks",
          "Caleb Huntley",
          "Kobe Jones",
          "Maurice Alexander",
          "Travon Walker",
          "Aidan Hutchinson",
          "Derek Stingley",
          "Ahmad Gardner",
          "Kayvon Thibodeaux",
          "Ikem Ekwonu",
          "Evan Neal",
          "Drake London",
          "Charles Cross",
          "Garrett Wilson",
          "Chris Olave",
          "Jordan Davis",
          "Kyle Hamilton",
          "Kenyon Green",
          "Jahan Dotson",
          "Zion Johnson",
          "Treylon Burks",
          "Kenny Pickett",
          "Trent McDuffie",
          "Quay Walker",
          "Kaiir Elam",
          "Tyler Smith",
          "Tyler Linderbaum",
          "Jermaine Johnson",
          "Devin Lloyd",
          "Devonte Wyatt",
          "Cole Strange",
          "George Karlaftis",
          "Dax Hill",
          "Lewis Cine",
          "Logan Hall",
          "Christian Watson",
          "Roger McCreary",
          "Breece Hall",
          "Jalen Pitre",
          "Arnold Ebiketie",
          "Kyler Gordon",
          "Boye Mafe",
          "Kenneth Walker",
          "Wan'Dale Robinson",
          "Josh Paschal",
          "Phidarian Mathis",
          "Jaquan Brisker",
          "Alontae Taylor",
          "Tyquan Thornton",
          "Cam Jurgens",
          "George Pickens",
          "Alec Pierce",
          "Skyy Moore",
          "Trey McBride",
          "Sam Williams",
          "Luke Goedeke",
          "Troy Andersen",
          "Ed Ingram",
          "Cam Taylor-Britt",
          "Drake Jackson",
          "Bryan Cook",
          "James Cook",
          "Nik Bonitto",
          "Luke Fortner",
          "Brian Asamoah",
          "Joshua Ezeudu",
          "Martin Emerson",
          "Nicholas Petit-Frere",
          "Chad Muma",
          "Velus Jones",
          "Abraham Lucas",
          "Jelani Woods",
          "Christian Harris",
          "Travis Jones",
          "Bernhard Raimann",
          "Alex Wright",
          "Greg Dulcich",
          "Cordale Flott",
          "DeAngelo Malone",
          "Nakobe Dean",
          "DeMarvin Leal",
          "Marcus Jones",
          "Malik Willis",
          "Cameron Thomas",
          "Jalen Tolbert",
          "Terrel Bernard",
          "Dylan Parham",
          "Rachaad White",
          "Tyrion Davis-Price",
          "Zach Carter",
          "Nick Cross",
          "Kerby Joseph",
          "Brian Robinson",
          "David Bell",
          "Myjai Sanders",
          "Jeremy Ruckert",
          "Channing Tindall",
          "Leo Chenal",
          "Danny Gray",
          "Cade Otton",
          "Dameon Pierce",
          "Perrion Winfrey",
          "Coby Bryant",
          "Daniel Faalele",
          "Max Mitchell",
          "Daniel Bellinger",
          "Percy Butler",
          "Dane Belton",
          "Damarri Mathis",
          "Eyioma Uwazurike",
          "Micheal Clemons",
          "Akayleb Evans",
          "Jalyn Armour-Davis",
          "Brandon Smith",
          "Jack Jones",
          "Zamir White",
          "Isaiah Spiller",
          "Neil Farrell",
          "Pierre Strong",
          "Jake Ferguson",
          "Hassan Haskins",
          "Romeo Doubs",
          "Spencer Burford",
          "Joshua Williams",
          "Cordell Volson",
          "Bailey Zappe",
          "Isaiah Likely",
          "Zach Tom",
          "Damarion Williams",
          "Cobie Durant",
          "Chigoziem Okonkwo",
          "Micah McFadden",
          "D.J. Davidson",
          "Khalil Shakir",
          "Cole Turner",
          "Thomas Booker",
          "Tyler Allgeier",
          "Tariq Woolen",
          "Snoop Conner",
          "Zyon McCollum",
          "Eric Johnson",
          "Otito Ogbonnia",
          "Montrell Washington",
          "Kyle Philips",
          "Daron Bland",
          "Braxton Jones",
          "Teagan Quitoriano",
          "Luke Wattenberg",
          "Samuel Womack",
          "Dominique Robinson",
          "Matthew Butler",
          "Damone Clark",
          "James Mitchell",
          "John Ridgeway",
          "Kingsley Enagbare",
          "Kyron Johnson",
          "Kevin Harris",
          "Christian Benford",
          "Nick Zakelj",
          "Malcolm Rodriguez",
          "Amare Barno",
          "Jalen Nailor",
          "Jamaree Salyer",
          "Grant Calcaterra",
          "Sam Roberts",
          "Keaontay Ingram",
          "Mike Woods",
          "Trestan Ebner",
          "Matt Henningsen",
          "Connor Heyward",
          "Derion Kendrick",
          "Lecitus Smith",
          "Ko Kieft",
          "Tariq Castro-Fields",
          "Montaric Brown",
          "Isaiah Thomas",
          "Baylon Spector",
          "Dareke Young",
          "Chase Lucas",
          "Thayer Munford",
          "Rodney Thomas",
          "Christian Holmes",
          "Jaylen Watson",
          "Christian Matthew",
          "Skylar Thompson",
          "Isiah Pacheco",
          "Jeff Gunter",
          "Russ Yeast",
          "Jesse Luketa",
          "Samori Toure",
          "Zander Horvath",
          "Brock Purdy",
          "Donovan Jeter",
          "Lance McCutcheon",
          "Keir Thomas",
          "De'Shaan Dixon",
          "Jaylon Jones",
          "Jack Sanborn",
          "Jake Tonges",
          "Britain Covey",
          "Joshua Onujiogu",
          "Tony Adams",
          "Armani Rogers",
          "Kyric McGowan",
          "DaMarcus Mitchell",
          "Jaylen Warren",
          "D'Anthony Bell",
          "Tanner Conner",
          "Kader Kohou",
          "Verone McKinley",
          "Braylon Sanders",
          "Ben Stille",
          "Marquan McCall",
          "Arron Mosby",
          "Ethan Fernea",
          "Allan George",
          "Raheem Blackshear",
          "Kingsley Jonathan",
          "Demetrius Taylor",
          "Tomon Fox",
          "Troy Hairston",
          "Jake Hansen",
          "Kurt Hinish",
          "Kaylon Geiger",
          "Luiji Vilain",
          "Sam Webb",
          "Luke Masterson",
          "Tay Martin",
          "Jordan Mason",
          "Lewis Kidd",
          "Rashid Shaheed",
          "Stephen Jones",
          "Ronnie Rivers",
          "Markquese Bell",
          "Malik Davis",
          "Peyton Hendershot",
          "Dennis Houston",
          "Jared Bernhardt",
          "Stanley Berryhill",
          "Timmy Horne",
          "Nate Landman",
          "Tre Avery",
          "Sam Okuayinonu",
          "Ryder Anderson",
          "Prince Emili",
          "Ja'Marcus Ingram",
          "C.J. Brewer"
         ],
         "type": "scattergl",
         "x": [
          225,
          328,
          225,
          267,
          217,
          245,
          315,
          175,
          300,
          222,
          205,
          220,
          229,
          215,
          320,
          304,
          265,
          275,
          185,
          195,
          254,
          325,
          285,
          335,
          330,
          330,
          250,
          210,
          203,
          220,
          288,
          257,
          287,
          215,
          295,
          220,
          265,
          315,
          192,
          270,
          335,
          215,
          295,
          315,
          199,
          235,
          250,
          260,
          207,
          202,
          310,
          305,
          250,
          247,
          265,
          305,
          315,
          214,
          242,
          233,
          279,
          192,
          215,
          248,
          243,
          352,
          308,
          202,
          321,
          198,
          200,
          308,
          195,
          195,
          212,
          215,
          174,
          220,
          225,
          305,
          220,
          207,
          317,
          311,
          212,
          238,
          250,
          190,
          221,
          193,
          340,
          245,
          255,
          260,
          190,
          304,
          211,
          179,
          327,
          195,
          205,
          307,
          310,
          281,
          240,
          315,
          263,
          240,
          197,
          310,
          230,
          215,
          255,
          191,
          309,
          328,
          263,
          200,
          178,
          212,
          300,
          255,
          211,
          269,
          309,
          231,
          255,
          309,
          280,
          194,
          315,
          250,
          312,
          183,
          193,
          194,
          215,
          265,
          320,
          210,
          250,
          185,
          252,
          215,
          220,
          225,
          196,
          315,
          330,
          310,
          235,
          336,
          315,
          301,
          205,
          257,
          350,
          322,
          250,
          200,
          230,
          300,
          320,
          301,
          256,
          290,
          305,
          190,
          205,
          208,
          310,
          328,
          332,
          232,
          317,
          310,
          306,
          325,
          224,
          270,
          240,
          250,
          325,
          250,
          330,
          183,
          285,
          245,
          210,
          255,
          265,
          231,
          222,
          255,
          211,
          315,
          302,
          216,
          316,
          216,
          215,
          292,
          197,
          313,
          198,
          310,
          269,
          307,
          230,
          215,
          312,
          192,
          218,
          338,
          280,
          265,
          232,
          205,
          240,
          305,
          193,
          341,
          203,
          252,
          328,
          260,
          255,
          260,
          325,
          182,
          210,
          205,
          196,
          236,
          250,
          252,
          320,
          301,
          216,
          194,
          318,
          265,
          177,
          272,
          227,
          221,
          243,
          323,
          310,
          309,
          310,
          305,
          214,
          243,
          192,
          191,
          260,
          250,
          240,
          245,
          270,
          197,
          255,
          298,
          305,
          307,
          310,
          380,
          260,
          220,
          320,
          197,
          263,
          234,
          190,
          184,
          209,
          292,
          190,
          210,
          222,
          300,
          180,
          208,
          242,
          188,
          310,
          299,
          223,
          237,
          280,
          228,
          208,
          315,
          300,
          308,
          240,
          203,
          305,
          313,
          318,
          216,
          309,
          267,
          196,
          197,
          314,
          275,
          245,
          250,
          244,
          308,
          200,
          201,
          314,
          287,
          247,
          330,
          212,
          306,
          300,
          227,
          203,
          309,
          205,
          212,
          287,
          212,
          275,
          308,
          246,
          296,
          211,
          215,
          308,
          303,
          254,
          198,
          235,
          305,
          235,
          261,
          310,
          202,
          245,
          199,
          200,
          257,
          222,
          232,
          305,
          212,
          300,
          328,
          200,
          203,
          237,
          238,
          296,
          306,
          261,
          291,
          224,
          310,
          298,
          217,
          324,
          185,
          347,
          198,
          202,
          196,
          314,
          234,
          209,
          189,
          235,
          230,
          238,
          194,
          305,
          191,
          223,
          215,
          205,
          300,
          182,
          322,
          209,
          184,
          340,
          190,
          195,
          202,
          294,
          294,
          275,
          228,
          190,
          299,
          230,
          318,
          235,
          190,
          207,
          240,
          313,
          236,
          267,
          272,
          215,
          280,
          228,
          209,
          213,
          218,
          205,
          230,
          192,
          235,
          259,
          212,
          197,
          300,
          185,
          250,
          300,
          250,
          240,
          213,
          265,
          246,
          252,
          314,
          320,
          195,
          200,
          207,
          195,
          210,
          195,
          181,
          240,
          193,
          240,
          220,
          253,
          199,
          280,
          242,
          318,
          238,
          320,
          289,
          202,
          220,
          215,
          320,
          325,
          305,
          195,
          215,
          264,
          208,
          303,
          300,
          230,
          240,
          266,
          204,
          209,
          216,
          233,
          198,
          209,
          195,
          304,
          188,
          213,
          209,
          248,
          270,
          215,
          233,
          316,
          202,
          220,
          240,
          265,
          196,
          221,
          233,
          245,
          275,
          213,
          284,
          297,
          315,
          250,
          201,
          226,
          335,
          230,
          223,
          190,
          173,
          253,
          181,
          311,
          208,
          205,
          202,
          255,
          228,
          250,
          321,
          312,
          204,
          305,
          307,
          258,
          280,
          229,
          225,
          320,
          270,
          252,
          260,
          232,
          214,
          212,
          203,
          190,
          250,
          230,
          248,
          345,
          221,
          311,
          209,
          245,
          190,
          258,
          225,
          240,
          246,
          210,
          190,
          193,
          231,
          225,
          329,
          194,
          196,
          200,
          317,
          237,
          237,
          309,
          205,
          325,
          220,
          307,
          200,
          215,
          233,
          191,
          275,
          330,
          237,
          230,
          315,
          207,
          347,
          320,
          265,
          325,
          250,
          215,
          196,
          256,
          311,
          312,
          234,
          310,
          215,
          245,
          220,
          217,
          291,
          191,
          215,
          212,
          305,
          327,
          225,
          230,
          315,
          305,
          216,
          252,
          195,
          196,
          200,
          251,
          256,
          298,
          248,
          205,
          200,
          180,
          210,
          198,
          297,
          206,
          277,
          250,
          204,
          311,
          236,
          315,
          225,
          315,
          310,
          265,
          279,
          200,
          210,
          345,
          309,
          255,
          240,
          233,
          321,
          305,
          210,
          320,
          214,
          305,
          200,
          307,
          292,
          243,
          190,
          260,
          180,
          198,
          236,
          302,
          297,
          255,
          198,
          178,
          216,
          267,
          192,
          260,
          184,
          287,
          253,
          210,
          288,
          235,
          242,
          188,
          255,
          215,
          313,
          203,
          250,
          205,
          310,
          254,
          253,
          308,
          315,
          217,
          207,
          318,
          208,
          242,
          190,
          210,
          184,
          310,
          215,
          203,
          332,
          214,
          188,
          185,
          190,
          331,
          317,
          229,
          221,
          344,
          236,
          290,
          185,
          185,
          311,
          200,
          190,
          240,
          316,
          202,
          184,
          214,
          190,
          300,
          285,
          194,
          202,
          295,
          295,
          190,
          238,
          250,
          187,
          248,
          205,
          310,
          193,
          300,
          202,
          233,
          205,
          224,
          235,
          210,
          280,
          305,
          307,
          185,
          205,
          189,
          232,
          210,
          219,
          205,
          214,
          302,
          205,
          190,
          179,
          193,
          185,
          227,
          311,
          200,
          197,
          320,
          195,
          295,
          198,
          272,
          239,
          196,
          189,
          290,
          203,
          229,
          230,
          236,
          205,
          200,
          208,
          255,
          207,
          266,
          303,
          265,
          237,
          220,
          262,
          248,
          287,
          233,
          305,
          277,
          315,
          307,
          250,
          342,
          305,
          300,
          249,
          200,
          315,
          322,
          220,
          170,
          262,
          205,
          295,
          291,
          306,
          225,
          190,
          190,
          312,
          214,
          310,
          329,
          195,
          200,
          312,
          250,
          310,
          184,
          195,
          315,
          252,
          240,
          226,
          259,
          211,
          213,
          325,
          187,
          308,
          205,
          206,
          208,
          190,
          205,
          230,
          281,
          181,
          250,
          200,
          281,
          245,
          222,
          203,
          210,
          251,
          196,
          238,
          207,
          316,
          192,
          324,
          215,
          237,
          234,
          308,
          307,
          220,
          206,
          250,
          254,
          312,
          226,
          200,
          310,
          220,
          208,
          255,
          272,
          193,
          200,
          210,
          261,
          310,
          267,
          310,
          322,
          209,
          234,
          316,
          201,
          214,
          312,
          285,
          250,
          196,
          265,
          203,
          225,
          185,
          242,
          240,
          248,
          235,
          210,
          300,
          280,
          230,
          308,
          190,
          240,
          225,
          190,
          210,
          215,
          224,
          295,
          191,
          295,
          323,
          202,
          188,
          202,
          174,
          324,
          204,
          320,
          201,
          253,
          251,
          253,
          200,
          302,
          200,
          240,
          284,
          176,
          326,
          235,
          200,
          300,
          255,
          200,
          209,
          215,
          180,
          285,
          255,
          314,
          311,
          295,
          314,
          366,
          233,
          308,
          335,
          242,
          300,
          200,
          238,
          228,
          288,
          265,
          225,
          230,
          193,
          170,
          202,
          195,
          299,
          237,
          240,
          285,
          207,
          280,
          255,
          193,
          237,
          310,
          185,
          210,
          188,
          200,
          209,
          300,
          334,
          305,
          240,
          350,
          205,
          261,
          225,
          300,
          245,
          212,
          279,
          215,
          260,
          205,
          235,
          193,
          173,
          195,
          299,
          194,
          230,
          237,
          215,
          261,
          260,
          285,
          245,
          319,
          190,
          190,
          170,
          216,
          200,
          326,
          218,
          237,
          318,
          225,
          191,
          320,
          322,
          310,
          192,
          190,
          189,
          310,
          250,
          195,
          192,
          234,
          319,
          206,
          220,
          245,
          227,
          196,
          209,
          210,
          220,
          211,
          197,
          216,
          264,
          322,
          305,
          221,
          220,
          258,
          203,
          205,
          176,
          253,
          227,
          195,
          207,
          212,
          218,
          280,
          214,
          310,
          197,
          310,
          208,
          250,
          200,
          250,
          235,
          212,
          250,
          221,
          241,
          200,
          332,
          205,
          300,
          310,
          310,
          235,
          305,
          215,
          200,
          290,
          201,
          215,
          302,
          315,
          252,
          204,
          215,
          259,
          315,
          185,
          259,
          260,
          210,
          240,
          233,
          245,
          242,
          198,
          253,
          345,
          215,
          295,
          330,
          198,
          219,
          335,
          240,
          305,
          260,
          255,
          219,
          320,
          227,
          315,
          208,
          213,
          295,
          308,
          225,
          251,
          210,
          321,
          245,
          175,
          193,
          183,
          325,
          214,
          296,
          320,
          300,
          324,
          268,
          201,
          205,
          220,
          190,
          205,
          305,
          172,
          291,
          200,
          255,
          300,
          350,
          333,
          202,
          208,
          245,
          321,
          290,
          205,
          190,
          193,
          307,
          210,
          250,
          209,
          297,
          310,
          170,
          220,
          240,
          203,
          214,
          210,
          210,
          265,
          320,
          247,
          232,
          185,
          250,
          186,
          315,
          242,
          205,
          246,
          235,
          290,
          318,
          245,
          185,
          250,
          205,
          199,
          250,
          220,
          329,
          305,
          225,
          190,
          195,
          175,
          255,
          235,
          310,
          275,
          285,
          211,
          240,
          235,
          250,
          223,
          315,
          205,
          246,
          205,
          196,
          260,
          246,
          310,
          231,
          185,
          290,
          255,
          188,
          180,
          185,
          310,
          185,
          300,
          215,
          220,
          315,
          190,
          255,
          215,
          239,
          270,
          195,
          290,
          215,
          255,
          210,
          300,
          204,
          153,
          190,
          245,
          220,
          208,
          226,
          250,
          200,
          182,
          325,
          200,
          203,
          165,
          223,
          245,
          305,
          310,
          214,
          260,
          266,
          234,
          193,
          265,
          207,
          314,
          230,
          200,
          188,
          210,
          270,
          190,
          253,
          252,
          262,
          185,
          184,
          220,
          196,
          325,
          310,
          310,
          194,
          308,
          202,
          195,
          325,
          180,
          330,
          180,
          250,
          295,
          215,
          299,
          280,
          258,
          190,
          153,
          232,
          200,
          242,
          273,
          312,
          316,
          203,
          225,
          253,
          297,
          193,
          315,
          278,
          205,
          280,
          193,
          210,
          250,
          223,
          253,
          185,
          248,
          270,
          215,
          310,
          215,
          222,
          260,
          179,
          233,
          321,
          295,
          245,
          320,
          213,
          182,
          230,
          206,
          240,
          305,
          200,
          190,
          202,
          310,
          280,
          195,
          245,
          300,
          255,
          235,
          246,
          346,
          195,
          256,
          195,
          207,
          235,
          315,
          174,
          195,
          190,
          300,
          270,
          191,
          274,
          305,
          258,
          220,
          245,
          285,
          191,
          332,
          205,
          217,
          190,
          315,
          293,
          179,
          305,
          300,
          195,
          315,
          240,
          200,
          195,
          195,
          230,
          202,
          340,
          205,
          190,
          227,
          215,
          268,
          195,
          215,
          200,
          198,
          305,
          330,
          260,
          355,
          221,
          318,
          218,
          178,
          216,
          190,
          305,
          332,
          220,
          265,
          185,
          195,
          197,
          312,
          232,
          212,
          235,
          224,
          325,
          205,
          205,
          305,
          315,
          280,
          251,
          315,
          330,
          257,
          248,
          180,
          252,
          306,
          220,
          340,
          215,
          190,
          220,
          202,
          282,
          240,
          225,
          310,
          205,
          215,
          220,
          178,
          190,
          251,
          330,
          315,
          195,
          277,
          311,
          244,
          244,
          340,
          245,
          315,
          260,
          198,
          178,
          255,
          190,
          330,
          180,
          245,
          229,
          260,
          180,
          275,
          265,
          195,
          200,
          250,
          320,
          360,
          210,
          310,
          192,
          185,
          340,
          220,
          325,
          182,
          305,
          225,
          220,
          195,
          240,
          196,
          332,
          290,
          260,
          235,
          315,
          301,
          275,
          192,
          200,
          275,
          208,
          188,
          220,
          200,
          256,
          195,
          265,
          210,
          185,
          278,
          312,
          202,
          195,
          180,
          290,
          200,
          213,
          195,
          245,
          265,
          310,
          230,
          295,
          205,
          250,
          210,
          190,
          238,
          300,
          230,
          325,
          200,
          310,
          242,
          200,
          319,
          265,
          232,
          336,
          305,
          270,
          250,
          170,
          240,
          225,
          290,
          185,
          215,
          270,
          195,
          222,
          285,
          210,
          223,
          290,
          215,
          200,
          228,
          205,
          240,
          250,
          230,
          261,
          199,
          250,
          215,
          290,
          198,
          380,
          299,
          255,
          191,
          205,
          195,
          285,
          270,
          193,
          192,
          241,
          170,
          215,
          215,
          325,
          205,
          250,
          220,
          200,
          295,
          197,
          310,
          220,
          240,
          295,
          180,
          175,
          250,
          232,
          325,
          190,
          240,
          310,
          220,
          205,
          220,
          200,
          298,
          320,
          170,
          191,
          206,
          310,
          259,
          300,
          187,
          256,
          290,
          239,
          255,
          320,
          270,
          235,
          220,
          205,
          325,
          225,
          245,
          191,
          325,
          221,
          292,
          215,
          196,
          205,
          291,
          230,
          190,
          315,
          265,
          195,
          190,
          272,
          235,
          210,
          176,
          315,
          201,
          201,
          204,
          200,
          221,
          215,
          260,
          195,
          242,
          190,
          230,
          212,
          325,
          200,
          275,
          250,
          183,
          232,
          240,
          170,
          250,
          205,
          227,
          200,
          265,
          225,
          200,
          223,
          187,
          194,
          185,
          293,
          379,
          230,
          190,
          195,
          194,
          260,
          295,
          260,
          245,
          230,
          296,
          180,
          252,
          195,
          220,
          186,
          218,
          311,
          180,
          290,
          190,
          205,
          207,
          245,
          205,
          195,
          190,
          321,
          230,
          190,
          285,
          266,
          300,
          185,
          280
         ],
         "xaxis": "x",
         "y": [
          76,
          76,
          74,
          78,
          76,
          78,
          76,
          60,
          80,
          75,
          72,
          75,
          72,
          74,
          77,
          75,
          74,
          77,
          60,
          60,
          74,
          77,
          78,
          75,
          76,
          80,
          75,
          76,
          73,
          75,
          77,
          76,
          76,
          69,
          77,
          74,
          78,
          74,
          60,
          75,
          78,
          73,
          75,
          76,
          60,
          73,
          73,
          75,
          76,
          73,
          76,
          77,
          75,
          74,
          77,
          78,
          76,
          74,
          72,
          73,
          75,
          61,
          61,
          74,
          78,
          76,
          75,
          75,
          80,
          74,
          72,
          75,
          60,
          61,
          73,
          73,
          68,
          61,
          75,
          75,
          74,
          60,
          78,
          77,
          73,
          74,
          77,
          72,
          75,
          72,
          75,
          73,
          75,
          77,
          69,
          77,
          74,
          69,
          75,
          61,
          73,
          73,
          76,
          78,
          73,
          77,
          75,
          73,
          72,
          77,
          75,
          60,
          78,
          72,
          76,
          75,
          75,
          74,
          68,
          61,
          74,
          77,
          73,
          75,
          77,
          77,
          77,
          79,
          73,
          61,
          76,
          74,
          78,
          60,
          61,
          61,
          74,
          75,
          76,
          75,
          75,
          68,
          75,
          73,
          74,
          74,
          61,
          78,
          78,
          77,
          74,
          75,
          75,
          78,
          69,
          76,
          74,
          76,
          78,
          74,
          72,
          79,
          78,
          75,
          75,
          74,
          75,
          61,
          61,
          74,
          77,
          80,
          76,
          73,
          75,
          75,
          78,
          76,
          61,
          74,
          72,
          74,
          78,
          75,
          78,
          69,
          77,
          77,
          61,
          78,
          78,
          76,
          76,
          75,
          73,
          77,
          77,
          75,
          79,
          75,
          73,
          79,
          72,
          77,
          72,
          77,
          76,
          77,
          72,
          74,
          75,
          60,
          72,
          78,
          75,
          77,
          72,
          73,
          61,
          78,
          61,
          78,
          69,
          76,
          80,
          75,
          77,
          75,
          75,
          60,
          73,
          75,
          72,
          73,
          78,
          77,
          77,
          78,
          72,
          61,
          76,
          74,
          69,
          76,
          73,
          69,
          72,
          76,
          73,
          76,
          76,
          72,
          72,
          74,
          61,
          72,
          78,
          79,
          72,
          74,
          76,
          69,
          78,
          73,
          74,
          74,
          77,
          80,
          76,
          75,
          76,
          60,
          78,
          74,
          68,
          61,
          76,
          73,
          61,
          73,
          61,
          75,
          69,
          73,
          74,
          69,
          76,
          72,
          76,
          77,
          77,
          72,
          73,
          78,
          79,
          78,
          77,
          73,
          74,
          77,
          79,
          73,
          76,
          75,
          72,
          72,
          75,
          76,
          74,
          77,
          73,
          78,
          73,
          60,
          76,
          77,
          75,
          76,
          75,
          75,
          76,
          73,
          74,
          75,
          61,
          73,
          76,
          61,
          79,
          74,
          74,
          75,
          73,
          73,
          77,
          76,
          76,
          61,
          74,
          74,
          76,
          78,
          78,
          74,
          73,
          61,
          73,
          78,
          74,
          76,
          75,
          72,
          76,
          73,
          72,
          73,
          74,
          74,
          78,
          76,
          75,
          76,
          72,
          75,
          78,
          72,
          77,
          60,
          75,
          73,
          72,
          61,
          77,
          74,
          74,
          73,
          76,
          74,
          72,
          73,
          76,
          72,
          73,
          76,
          72,
          75,
          68,
          77,
          61,
          69,
          72,
          60,
          60,
          61,
          75,
          77,
          75,
          75,
          75,
          76,
          75,
          73,
          61,
          72,
          73,
          75,
          75,
          73,
          77,
          76,
          74,
          74,
          72,
          75,
          73,
          76,
          61,
          75,
          72,
          73,
          75,
          73,
          72,
          75,
          61,
          78,
          77,
          75,
          75,
          61,
          74,
          76,
          76,
          78,
          78,
          60,
          74,
          72,
          61,
          60,
          73,
          72,
          75,
          74,
          75,
          73,
          74,
          72,
          76,
          74,
          75,
          75,
          78,
          79,
          72,
          74,
          73,
          77,
          77,
          75,
          74,
          60,
          75,
          74,
          75,
          77,
          73,
          75,
          76,
          72,
          73,
          61,
          73,
          72,
          72,
          60,
          76,
          61,
          76,
          74,
          75,
          76,
          74,
          73,
          75,
          72,
          73,
          61,
          74,
          75,
          76,
          72,
          75,
          77,
          72,
          76,
          75,
          76,
          76,
          60,
          72,
          76,
          73,
          72,
          60,
          68,
          77,
          68,
          75,
          69,
          72,
          61,
          74,
          73,
          76,
          72,
          76,
          72,
          80,
          76,
          75,
          76,
          74,
          74,
          77,
          76,
          77,
          77,
          76,
          74,
          61,
          73,
          60,
          77,
          73,
          75,
          75,
          74,
          75,
          76,
          76,
          69,
          78,
          72,
          72,
          74,
          76,
          60,
          73,
          72,
          75,
          78,
          73,
          74,
          60,
          79,
          77,
          72,
          78,
          60,
          81,
          78,
          77,
          72,
          73,
          61,
          61,
          76,
          77,
          77,
          72,
          80,
          73,
          76,
          75,
          78,
          80,
          77,
          74,
          60,
          76,
          77,
          76,
          74,
          74,
          61,
          76,
          61,
          73,
          76,
          60,
          61,
          74,
          76,
          74,
          61,
          74,
          78,
          75,
          76,
          78,
          73,
          72,
          61,
          74,
          77,
          77,
          77,
          61,
          73,
          60,
          72,
          76,
          79,
          73,
          75,
          77,
          73,
          75,
          75,
          76,
          74,
          78,
          73,
          77,
          76,
          73,
          73,
          80,
          75,
          77,
          77,
          75,
          77,
          73,
          74,
          78,
          75,
          78,
          74,
          75,
          77,
          76,
          73,
          75,
          61,
          69,
          73,
          74,
          75,
          76,
          60,
          61,
          74,
          76,
          61,
          78,
          69,
          74,
          77,
          69,
          76,
          74,
          77,
          69,
          74,
          75,
          75,
          75,
          72,
          72,
          75,
          75,
          73,
          75,
          76,
          73,
          76,
          76,
          72,
          74,
          69,
          73,
          72,
          76,
          74,
          66,
          79,
          77,
          77,
          72,
          69,
          77,
          77,
          72,
          74,
          80,
          72,
          78,
          69,
          60,
          77,
          72,
          69,
          77,
          75,
          73,
          61,
          77,
          68,
          78,
          77,
          72,
          72,
          75,
          74,
          60,
          73,
          76,
          69,
          73,
          60,
          61,
          61,
          75,
          61,
          74,
          73,
          61,
          75,
          75,
          76,
          74,
          77,
          60,
          61,
          61,
          72,
          61,
          73,
          60,
          74,
          74,
          60,
          69,
          72,
          73,
          61,
          77,
          77,
          75,
          74,
          77,
          73,
          75,
          73,
          76,
          77,
          72,
          68,
          77,
          72,
          73,
          74,
          73,
          74,
          74,
          60,
          75,
          60,
          76,
          75,
          76,
          72,
          77,
          77,
          77,
          73,
          61,
          76,
          77,
          76,
          76,
          77,
          76,
          75,
          76,
          76,
          61,
          77,
          77,
          60,
          69,
          78,
          72,
          78,
          74,
          78,
          76,
          61,
          72,
          77,
          61,
          77,
          75,
          72,
          74,
          77,
          74,
          77,
          74,
          74,
          76,
          75,
          74,
          72,
          76,
          61,
          74,
          78,
          60,
          75,
          72,
          72,
          72,
          69,
          72,
          76,
          76,
          60,
          77,
          68,
          75,
          74,
          60,
          67,
          72,
          75,
          61,
          73,
          73,
          75,
          74,
          72,
          61,
          74,
          73,
          77,
          78,
          76,
          73,
          76,
          76,
          76,
          61,
          60,
          77,
          61,
          61,
          77,
          79,
          61,
          60,
          61,
          78,
          77,
          75,
          76,
          76,
          72,
          74,
          75,
          69,
          75,
          73,
          77,
          76,
          73,
          80,
          74,
          72,
          60,
          76,
          73,
          77,
          73,
          73,
          75,
          77,
          76,
          78,
          73,
          73,
          73,
          60,
          60,
          75,
          61,
          77,
          72,
          75,
          77,
          72,
          61,
          60,
          61,
          78,
          72,
          76,
          61,
          78,
          77,
          76,
          60,
          79,
          61,
          75,
          75,
          60,
          79,
          74,
          74,
          77,
          75,
          74,
          74,
          73,
          68,
          73,
          75,
          77,
          74,
          77,
          79,
          75,
          72,
          76,
          76,
          73,
          76,
          60,
          74,
          74,
          77,
          76,
          72,
          74,
          68,
          66,
          60,
          61,
          79,
          80,
          75,
          76,
          74,
          76,
          77,
          72,
          72,
          77,
          69,
          75,
          69,
          73,
          72,
          76,
          76,
          76,
          73,
          77,
          72,
          77,
          76,
          75,
          75,
          73,
          75,
          75,
          78,
          72,
          75,
          73,
          67,
          73,
          73,
          60,
          78,
          75,
          61,
          75,
          78,
          74,
          75,
          78,
          72,
          61,
          72,
          76,
          73,
          77,
          73,
          78,
          77,
          75,
          73,
          77,
          77,
          78,
          73,
          74,
          74,
          78,
          76,
          61,
          75,
          75,
          75,
          73,
          76,
          73,
          73,
          61,
          68,
          76,
          76,
          60,
          73,
          74,
          77,
          77,
          76,
          61,
          74,
          78,
          75,
          69,
          69,
          75,
          76,
          72,
          74,
          61,
          74,
          77,
          60,
          79,
          74,
          78,
          75,
          74,
          72,
          73,
          74,
          75,
          74,
          74,
          77,
          73,
          75,
          72,
          75,
          79,
          76,
          75,
          76,
          60,
          73,
          76,
          72,
          75,
          74,
          76,
          77,
          73,
          60,
          75,
          76,
          74,
          75,
          75,
          61,
          75,
          76,
          75,
          76,
          72,
          78,
          77,
          74,
          76,
          76,
          60,
          61,
          77,
          77,
          78,
          77,
          77,
          75,
          78,
          78,
          80,
          61,
          75,
          76,
          74,
          76,
          79,
          74,
          76,
          77,
          60,
          73,
          69,
          76,
          60,
          77,
          75,
          76,
          79,
          76,
          73,
          74,
          72,
          61,
          73,
          75,
          61,
          75,
          72,
          74,
          77,
          75,
          73,
          61,
          74,
          77,
          77,
          77,
          74,
          74,
          72,
          79,
          72,
          76,
          76,
          77,
          79,
          60,
          76,
          73,
          74,
          75,
          61,
          60,
          75,
          74,
          76,
          73,
          61,
          76,
          72,
          74,
          77,
          74,
          77,
          75,
          75,
          77,
          76,
          74,
          76,
          69,
          76,
          75,
          60,
          73,
          74,
          61,
          60,
          72,
          60,
          76,
          74,
          76,
          77,
          74,
          61,
          75,
          73,
          77,
          75,
          76,
          72,
          76,
          76,
          61,
          75,
          77,
          78,
          76,
          61,
          75,
          75,
          61,
          68,
          66,
          76,
          73,
          77,
          72,
          77,
          75,
          60,
          75,
          75,
          75,
          75,
          72,
          75,
          75,
          73,
          61,
          76,
          74,
          69,
          60,
          76,
          78,
          74,
          76,
          78,
          73,
          60,
          78,
          73,
          74,
          73,
          75,
          75,
          75,
          76,
          75,
          76,
          77,
          76,
          72,
          75,
          74,
          77,
          74,
          60,
          73,
          74,
          78,
          73,
          79,
          77,
          77,
          74,
          69,
          60,
          73,
          78,
          77,
          78,
          72,
          78,
          74,
          73,
          79,
          60,
          77,
          69,
          74,
          77,
          73,
          78,
          78,
          77,
          69,
          69,
          72,
          76,
          75,
          76,
          77,
          77,
          72,
          76,
          76,
          78,
          72,
          74,
          76,
          75,
          74,
          72,
          74,
          75,
          75,
          77,
          73,
          76,
          77,
          60,
          76,
          73,
          76,
          77,
          72,
          73,
          81,
          77,
          77,
          75,
          75,
          72,
          74,
          72,
          75,
          75,
          60,
          72,
          74,
          77,
          75,
          73,
          73,
          75,
          79,
          76,
          72,
          75,
          61,
          78,
          73,
          73,
          75,
          77,
          69,
          74,
          72,
          74,
          77,
          61,
          76,
          77,
          78,
          73,
          75,
          76,
          61,
          78,
          73,
          73,
          60,
          77,
          79,
          73,
          75,
          78,
          73,
          80,
          76,
          72,
          75,
          72,
          74,
          61,
          77,
          73,
          61,
          76,
          73,
          76,
          69,
          76,
          73,
          61,
          75,
          75,
          74,
          77,
          61,
          74,
          73,
          61,
          61,
          60,
          79,
          79,
          74,
          75,
          69,
          73,
          61,
          77,
          75,
          69,
          75,
          73,
          78,
          76,
          77,
          75,
          78,
          77,
          74,
          77,
          78,
          76,
          76,
          72,
          75,
          78,
          75,
          76,
          61,
          73,
          72,
          73,
          74,
          76,
          74,
          81,
          69,
          77,
          72,
          68,
          73,
          76,
          77,
          78,
          60,
          75,
          77,
          72,
          77,
          76,
          72,
          77,
          76,
          61,
          61,
          76,
          61,
          78,
          60,
          78,
          60,
          76,
          61,
          77,
          78,
          73,
          75,
          77,
          76,
          79,
          77,
          77,
          72,
          73,
          78,
          76,
          76,
          61,
          75,
          75,
          75,
          61,
          76,
          74,
          78,
          75,
          76,
          75,
          75,
          78,
          76,
          72,
          73,
          78,
          77,
          72,
          73,
          72,
          75,
          72,
          76,
          60,
          61,
          75,
          76,
          73,
          72,
          75,
          75,
          75,
          75,
          60,
          75,
          76,
          77,
          75,
          76,
          72,
          76,
          73,
          61,
          75,
          78,
          73,
          76,
          74,
          77,
          75,
          72,
          79,
          79,
          74,
          76,
          79,
          79,
          76,
          74,
          76,
          72,
          76,
          68,
          73,
          77,
          75,
          73,
          75,
          74,
          73,
          76,
          73,
          73,
          73,
          74,
          77,
          77,
          74,
          74,
          74,
          77,
          60,
          75,
          73,
          81,
          78,
          78,
          72,
          73,
          61,
          77,
          77,
          74,
          73,
          75,
          61,
          72,
          73,
          76,
          61,
          77,
          73,
          74,
          77,
          75,
          79,
          73,
          76,
          77,
          69,
          61,
          75,
          74,
          77,
          72,
          78,
          76,
          61,
          76,
          60,
          76,
          77,
          76,
          60,
          61,
          61,
          79,
          78,
          77,
          60,
          76,
          75,
          75,
          75,
          78,
          76,
          73,
          60,
          73,
          77,
          61,
          78,
          72,
          76,
          76,
          77,
          72,
          73,
          60,
          75,
          72,
          72,
          75,
          77,
          73,
          72,
          77,
          74,
          75,
          72,
          78,
          73,
          72,
          75,
          76,
          74,
          61,
          76,
          60,
          75,
          75,
          75,
          73,
          75,
          75,
          74,
          76,
          61,
          74,
          77,
          68,
          75,
          72,
          77,
          60,
          75,
          68,
          73,
          74,
          69,
          61,
          72,
          76,
          75,
          75,
          61,
          73,
          69,
          76,
          73,
          75,
          61,
          73,
          73,
          60,
          76,
          74,
          73,
          75,
          73,
          78,
          72,
          76,
          68,
          75,
          60,
          76,
          74,
          73,
          61,
          77,
          75,
          61,
          73,
          78,
          74,
          73,
          74
         ],
         "yaxis": "y"
        }
       ],
       "layout": {
        "legend": {
         "tracegroupgap": 0
        },
        "margin": {
         "t": 60
        },
        "template": {
         "data": {
          "bar": [
           {
            "error_x": {
             "color": "#2a3f5f"
            },
            "error_y": {
             "color": "#2a3f5f"
            },
            "marker": {
             "line": {
              "color": "#E5ECF6",
              "width": 0.5
             },
             "pattern": {
              "fillmode": "overlay",
              "size": 10,
              "solidity": 0.2
             }
            },
            "type": "bar"
           }
          ],
          "barpolar": [
           {
            "marker": {
             "line": {
              "color": "#E5ECF6",
              "width": 0.5
             },
             "pattern": {
              "fillmode": "overlay",
              "size": 10,
              "solidity": 0.2
             }
            },
            "type": "barpolar"
           }
          ],
          "carpet": [
           {
            "aaxis": {
             "endlinecolor": "#2a3f5f",
             "gridcolor": "white",
             "linecolor": "white",
             "minorgridcolor": "white",
             "startlinecolor": "#2a3f5f"
            },
            "baxis": {
             "endlinecolor": "#2a3f5f",
             "gridcolor": "white",
             "linecolor": "white",
             "minorgridcolor": "white",
             "startlinecolor": "#2a3f5f"
            },
            "type": "carpet"
           }
          ],
          "choropleth": [
           {
            "colorbar": {
             "outlinewidth": 0,
             "ticks": ""
            },
            "type": "choropleth"
           }
          ],
          "contour": [
           {
            "colorbar": {
             "outlinewidth": 0,
             "ticks": ""
            },
            "colorscale": [
             [
              0,
              "#0d0887"
             ],
             [
              0.1111111111111111,
              "#46039f"
             ],
             [
              0.2222222222222222,
              "#7201a8"
             ],
             [
              0.3333333333333333,
              "#9c179e"
             ],
             [
              0.4444444444444444,
              "#bd3786"
             ],
             [
              0.5555555555555556,
              "#d8576b"
             ],
             [
              0.6666666666666666,
              "#ed7953"
             ],
             [
              0.7777777777777778,
              "#fb9f3a"
             ],
             [
              0.8888888888888888,
              "#fdca26"
             ],
             [
              1,
              "#f0f921"
             ]
            ],
            "type": "contour"
           }
          ],
          "contourcarpet": [
           {
            "colorbar": {
             "outlinewidth": 0,
             "ticks": ""
            },
            "type": "contourcarpet"
           }
          ],
          "heatmap": [
           {
            "colorbar": {
             "outlinewidth": 0,
             "ticks": ""
            },
            "colorscale": [
             [
              0,
              "#0d0887"
             ],
             [
              0.1111111111111111,
              "#46039f"
             ],
             [
              0.2222222222222222,
              "#7201a8"
             ],
             [
              0.3333333333333333,
              "#9c179e"
             ],
             [
              0.4444444444444444,
              "#bd3786"
             ],
             [
              0.5555555555555556,
              "#d8576b"
             ],
             [
              0.6666666666666666,
              "#ed7953"
             ],
             [
              0.7777777777777778,
              "#fb9f3a"
             ],
             [
              0.8888888888888888,
              "#fdca26"
             ],
             [
              1,
              "#f0f921"
             ]
            ],
            "type": "heatmap"
           }
          ],
          "heatmapgl": [
           {
            "colorbar": {
             "outlinewidth": 0,
             "ticks": ""
            },
            "colorscale": [
             [
              0,
              "#0d0887"
             ],
             [
              0.1111111111111111,
              "#46039f"
             ],
             [
              0.2222222222222222,
              "#7201a8"
             ],
             [
              0.3333333333333333,
              "#9c179e"
             ],
             [
              0.4444444444444444,
              "#bd3786"
             ],
             [
              0.5555555555555556,
              "#d8576b"
             ],
             [
              0.6666666666666666,
              "#ed7953"
             ],
             [
              0.7777777777777778,
              "#fb9f3a"
             ],
             [
              0.8888888888888888,
              "#fdca26"
             ],
             [
              1,
              "#f0f921"
             ]
            ],
            "type": "heatmapgl"
           }
          ],
          "histogram": [
           {
            "marker": {
             "pattern": {
              "fillmode": "overlay",
              "size": 10,
              "solidity": 0.2
             }
            },
            "type": "histogram"
           }
          ],
          "histogram2d": [
           {
            "colorbar": {
             "outlinewidth": 0,
             "ticks": ""
            },
            "colorscale": [
             [
              0,
              "#0d0887"
             ],
             [
              0.1111111111111111,
              "#46039f"
             ],
             [
              0.2222222222222222,
              "#7201a8"
             ],
             [
              0.3333333333333333,
              "#9c179e"
             ],
             [
              0.4444444444444444,
              "#bd3786"
             ],
             [
              0.5555555555555556,
              "#d8576b"
             ],
             [
              0.6666666666666666,
              "#ed7953"
             ],
             [
              0.7777777777777778,
              "#fb9f3a"
             ],
             [
              0.8888888888888888,
              "#fdca26"
             ],
             [
              1,
              "#f0f921"
             ]
            ],
            "type": "histogram2d"
           }
          ],
          "histogram2dcontour": [
           {
            "colorbar": {
             "outlinewidth": 0,
             "ticks": ""
            },
            "colorscale": [
             [
              0,
              "#0d0887"
             ],
             [
              0.1111111111111111,
              "#46039f"
             ],
             [
              0.2222222222222222,
              "#7201a8"
             ],
             [
              0.3333333333333333,
              "#9c179e"
             ],
             [
              0.4444444444444444,
              "#bd3786"
             ],
             [
              0.5555555555555556,
              "#d8576b"
             ],
             [
              0.6666666666666666,
              "#ed7953"
             ],
             [
              0.7777777777777778,
              "#fb9f3a"
             ],
             [
              0.8888888888888888,
              "#fdca26"
             ],
             [
              1,
              "#f0f921"
             ]
            ],
            "type": "histogram2dcontour"
           }
          ],
          "mesh3d": [
           {
            "colorbar": {
             "outlinewidth": 0,
             "ticks": ""
            },
            "type": "mesh3d"
           }
          ],
          "parcoords": [
           {
            "line": {
             "colorbar": {
              "outlinewidth": 0,
              "ticks": ""
             }
            },
            "type": "parcoords"
           }
          ],
          "pie": [
           {
            "automargin": true,
            "type": "pie"
           }
          ],
          "scatter": [
           {
            "fillpattern": {
             "fillmode": "overlay",
             "size": 10,
             "solidity": 0.2
            },
            "type": "scatter"
           }
          ],
          "scatter3d": [
           {
            "line": {
             "colorbar": {
              "outlinewidth": 0,
              "ticks": ""
             }
            },
            "marker": {
             "colorbar": {
              "outlinewidth": 0,
              "ticks": ""
             }
            },
            "type": "scatter3d"
           }
          ],
          "scattercarpet": [
           {
            "marker": {
             "colorbar": {
              "outlinewidth": 0,
              "ticks": ""
             }
            },
            "type": "scattercarpet"
           }
          ],
          "scattergeo": [
           {
            "marker": {
             "colorbar": {
              "outlinewidth": 0,
              "ticks": ""
             }
            },
            "type": "scattergeo"
           }
          ],
          "scattergl": [
           {
            "marker": {
             "colorbar": {
              "outlinewidth": 0,
              "ticks": ""
             }
            },
            "type": "scattergl"
           }
          ],
          "scattermapbox": [
           {
            "marker": {
             "colorbar": {
              "outlinewidth": 0,
              "ticks": ""
             }
            },
            "type": "scattermapbox"
           }
          ],
          "scatterpolar": [
           {
            "marker": {
             "colorbar": {
              "outlinewidth": 0,
              "ticks": ""
             }
            },
            "type": "scatterpolar"
           }
          ],
          "scatterpolargl": [
           {
            "marker": {
             "colorbar": {
              "outlinewidth": 0,
              "ticks": ""
             }
            },
            "type": "scatterpolargl"
           }
          ],
          "scatterternary": [
           {
            "marker": {
             "colorbar": {
              "outlinewidth": 0,
              "ticks": ""
             }
            },
            "type": "scatterternary"
           }
          ],
          "surface": [
           {
            "colorbar": {
             "outlinewidth": 0,
             "ticks": ""
            },
            "colorscale": [
             [
              0,
              "#0d0887"
             ],
             [
              0.1111111111111111,
              "#46039f"
             ],
             [
              0.2222222222222222,
              "#7201a8"
             ],
             [
              0.3333333333333333,
              "#9c179e"
             ],
             [
              0.4444444444444444,
              "#bd3786"
             ],
             [
              0.5555555555555556,
              "#d8576b"
             ],
             [
              0.6666666666666666,
              "#ed7953"
             ],
             [
              0.7777777777777778,
              "#fb9f3a"
             ],
             [
              0.8888888888888888,
              "#fdca26"
             ],
             [
              1,
              "#f0f921"
             ]
            ],
            "type": "surface"
           }
          ],
          "table": [
           {
            "cells": {
             "fill": {
              "color": "#EBF0F8"
             },
             "line": {
              "color": "white"
             }
            },
            "header": {
             "fill": {
              "color": "#C8D4E3"
             },
             "line": {
              "color": "white"
             }
            },
            "type": "table"
           }
          ]
         },
         "layout": {
          "annotationdefaults": {
           "arrowcolor": "#2a3f5f",
           "arrowhead": 0,
           "arrowwidth": 1
          },
          "autotypenumbers": "strict",
          "coloraxis": {
           "colorbar": {
            "outlinewidth": 0,
            "ticks": ""
           }
          },
          "colorscale": {
           "diverging": [
            [
             0,
             "#8e0152"
            ],
            [
             0.1,
             "#c51b7d"
            ],
            [
             0.2,
             "#de77ae"
            ],
            [
             0.3,
             "#f1b6da"
            ],
            [
             0.4,
             "#fde0ef"
            ],
            [
             0.5,
             "#f7f7f7"
            ],
            [
             0.6,
             "#e6f5d0"
            ],
            [
             0.7,
             "#b8e186"
            ],
            [
             0.8,
             "#7fbc41"
            ],
            [
             0.9,
             "#4d9221"
            ],
            [
             1,
             "#276419"
            ]
           ],
           "sequential": [
            [
             0,
             "#0d0887"
            ],
            [
             0.1111111111111111,
             "#46039f"
            ],
            [
             0.2222222222222222,
             "#7201a8"
            ],
            [
             0.3333333333333333,
             "#9c179e"
            ],
            [
             0.4444444444444444,
             "#bd3786"
            ],
            [
             0.5555555555555556,
             "#d8576b"
            ],
            [
             0.6666666666666666,
             "#ed7953"
            ],
            [
             0.7777777777777778,
             "#fb9f3a"
            ],
            [
             0.8888888888888888,
             "#fdca26"
            ],
            [
             1,
             "#f0f921"
            ]
           ],
           "sequentialminus": [
            [
             0,
             "#0d0887"
            ],
            [
             0.1111111111111111,
             "#46039f"
            ],
            [
             0.2222222222222222,
             "#7201a8"
            ],
            [
             0.3333333333333333,
             "#9c179e"
            ],
            [
             0.4444444444444444,
             "#bd3786"
            ],
            [
             0.5555555555555556,
             "#d8576b"
            ],
            [
             0.6666666666666666,
             "#ed7953"
            ],
            [
             0.7777777777777778,
             "#fb9f3a"
            ],
            [
             0.8888888888888888,
             "#fdca26"
            ],
            [
             1,
             "#f0f921"
            ]
           ]
          },
          "colorway": [
           "#636efa",
           "#EF553B",
           "#00cc96",
           "#ab63fa",
           "#FFA15A",
           "#19d3f3",
           "#FF6692",
           "#B6E880",
           "#FF97FF",
           "#FECB52"
          ],
          "font": {
           "color": "#2a3f5f"
          },
          "geo": {
           "bgcolor": "white",
           "lakecolor": "white",
           "landcolor": "#E5ECF6",
           "showlakes": true,
           "showland": true,
           "subunitcolor": "white"
          },
          "hoverlabel": {
           "align": "left"
          },
          "hovermode": "closest",
          "mapbox": {
           "style": "light"
          },
          "paper_bgcolor": "white",
          "plot_bgcolor": "#E5ECF6",
          "polar": {
           "angularaxis": {
            "gridcolor": "white",
            "linecolor": "white",
            "ticks": ""
           },
           "bgcolor": "#E5ECF6",
           "radialaxis": {
            "gridcolor": "white",
            "linecolor": "white",
            "ticks": ""
           }
          },
          "scene": {
           "xaxis": {
            "backgroundcolor": "#E5ECF6",
            "gridcolor": "white",
            "gridwidth": 2,
            "linecolor": "white",
            "showbackground": true,
            "ticks": "",
            "zerolinecolor": "white"
           },
           "yaxis": {
            "backgroundcolor": "#E5ECF6",
            "gridcolor": "white",
            "gridwidth": 2,
            "linecolor": "white",
            "showbackground": true,
            "ticks": "",
            "zerolinecolor": "white"
           },
           "zaxis": {
            "backgroundcolor": "#E5ECF6",
            "gridcolor": "white",
            "gridwidth": 2,
            "linecolor": "white",
            "showbackground": true,
            "ticks": "",
            "zerolinecolor": "white"
           }
          },
          "shapedefaults": {
           "line": {
            "color": "#2a3f5f"
           }
          },
          "ternary": {
           "aaxis": {
            "gridcolor": "white",
            "linecolor": "white",
            "ticks": ""
           },
           "baxis": {
            "gridcolor": "white",
            "linecolor": "white",
            "ticks": ""
           },
           "bgcolor": "#E5ECF6",
           "caxis": {
            "gridcolor": "white",
            "linecolor": "white",
            "ticks": ""
           }
          },
          "title": {
           "x": 0.05
          },
          "xaxis": {
           "automargin": true,
           "gridcolor": "white",
           "linecolor": "white",
           "ticks": "",
           "title": {
            "standoff": 15
           },
           "zerolinecolor": "white",
           "zerolinewidth": 2
          },
          "yaxis": {
           "automargin": true,
           "gridcolor": "white",
           "linecolor": "white",
           "ticks": "",
           "title": {
            "standoff": 15
           },
           "zerolinecolor": "white",
           "zerolinewidth": 2
          }
         }
        },
        "title": {
         "text": "Comparison of Player Height and Weight",
         "x": 0.5,
         "xanchor": "center"
        },
        "xaxis": {
         "anchor": "y",
         "domain": [
          0,
          1
         ],
         "title": {
          "text": "Weight (lbs)"
         }
        },
        "yaxis": {
         "anchor": "x",
         "domain": [
          0,
          1
         ],
         "title": {
          "text": "Height (inches)"
         }
        }
       }
      }
     },
     "metadata": {},
     "output_type": "display_data"
    }
   ],
   "source": [
    "import plotly.express as px\n",
    "\n",
    "fig = px.scatter(\n",
    "    players_df,\n",
    "    y = \"height_in_inches\",\n",
    "    x = \"weight\",\n",
    "    hover_data = ['displayName']\n",
    ")\n",
    "\n",
    "fig.update_layout(\n",
    "    xaxis_title = \"Weight (lbs)\",\n",
    "    yaxis_title = \"Height (inches)\",\n",
    "    title = {\n",
    "        'text' : 'Comparison of Player Height and Weight',\n",
    "        'x' : 0.5,\n",
    "        'xanchor' : 'center'\n",
    "    }\n",
    ")\n",
    "fig.update_traces(\n",
    "    text = players_df['displayName'],\n",
    "    hovertemplate='<b>%{text}</b>' + \n",
    "                    '<br>Position: %{customdata[0]}' +  \n",
    "                    '<br>Weight: %{x} lbs ' +\n",
    "                    '<br>Height: %{y} inches',\n",
    "    customdata = players_df[['position']]\n",
    ")\n",
    "\n",
    "fig.show()"
   ]
  },
  {
   "cell_type": "markdown",
   "metadata": {},
   "source": [
    "### Games"
   ]
  },
  {
   "cell_type": "code",
   "execution_count": 61,
   "metadata": {},
   "outputs": [],
   "source": [
    "games_df = pd.read_csv('./nfl-big-data-bowl-2025/games.csv')"
   ]
  },
  {
   "cell_type": "code",
   "execution_count": 62,
   "metadata": {},
   "outputs": [
    {
     "data": {
      "text/html": [
       "<div>\n",
       "<style scoped>\n",
       "    .dataframe tbody tr th:only-of-type {\n",
       "        vertical-align: middle;\n",
       "    }\n",
       "\n",
       "    .dataframe tbody tr th {\n",
       "        vertical-align: top;\n",
       "    }\n",
       "\n",
       "    .dataframe thead th {\n",
       "        text-align: right;\n",
       "    }\n",
       "</style>\n",
       "<table border=\"1\" class=\"dataframe\">\n",
       "  <thead>\n",
       "    <tr style=\"text-align: right;\">\n",
       "      <th></th>\n",
       "      <th>gameId</th>\n",
       "      <th>season</th>\n",
       "      <th>week</th>\n",
       "      <th>gameDate</th>\n",
       "      <th>gameTimeEastern</th>\n",
       "      <th>homeTeamAbbr</th>\n",
       "      <th>visitorTeamAbbr</th>\n",
       "      <th>homeFinalScore</th>\n",
       "      <th>visitorFinalScore</th>\n",
       "    </tr>\n",
       "  </thead>\n",
       "  <tbody>\n",
       "    <tr>\n",
       "      <th>0</th>\n",
       "      <td>2022090800</td>\n",
       "      <td>2022</td>\n",
       "      <td>1</td>\n",
       "      <td>9/8/2022</td>\n",
       "      <td>20:20:00</td>\n",
       "      <td>LA</td>\n",
       "      <td>BUF</td>\n",
       "      <td>10</td>\n",
       "      <td>31</td>\n",
       "    </tr>\n",
       "    <tr>\n",
       "      <th>1</th>\n",
       "      <td>2022091100</td>\n",
       "      <td>2022</td>\n",
       "      <td>1</td>\n",
       "      <td>9/11/2022</td>\n",
       "      <td>13:00:00</td>\n",
       "      <td>ATL</td>\n",
       "      <td>NO</td>\n",
       "      <td>26</td>\n",
       "      <td>27</td>\n",
       "    </tr>\n",
       "    <tr>\n",
       "      <th>2</th>\n",
       "      <td>2022091101</td>\n",
       "      <td>2022</td>\n",
       "      <td>1</td>\n",
       "      <td>9/11/2022</td>\n",
       "      <td>13:00:00</td>\n",
       "      <td>CAR</td>\n",
       "      <td>CLE</td>\n",
       "      <td>24</td>\n",
       "      <td>26</td>\n",
       "    </tr>\n",
       "    <tr>\n",
       "      <th>3</th>\n",
       "      <td>2022091102</td>\n",
       "      <td>2022</td>\n",
       "      <td>1</td>\n",
       "      <td>9/11/2022</td>\n",
       "      <td>13:00:00</td>\n",
       "      <td>CHI</td>\n",
       "      <td>SF</td>\n",
       "      <td>19</td>\n",
       "      <td>10</td>\n",
       "    </tr>\n",
       "    <tr>\n",
       "      <th>4</th>\n",
       "      <td>2022091103</td>\n",
       "      <td>2022</td>\n",
       "      <td>1</td>\n",
       "      <td>9/11/2022</td>\n",
       "      <td>13:00:00</td>\n",
       "      <td>CIN</td>\n",
       "      <td>PIT</td>\n",
       "      <td>20</td>\n",
       "      <td>23</td>\n",
       "    </tr>\n",
       "  </tbody>\n",
       "</table>\n",
       "</div>"
      ],
      "text/plain": [
       "       gameId  season  week   gameDate gameTimeEastern homeTeamAbbr  \\\n",
       "0  2022090800    2022     1   9/8/2022        20:20:00           LA   \n",
       "1  2022091100    2022     1  9/11/2022        13:00:00          ATL   \n",
       "2  2022091101    2022     1  9/11/2022        13:00:00          CAR   \n",
       "3  2022091102    2022     1  9/11/2022        13:00:00          CHI   \n",
       "4  2022091103    2022     1  9/11/2022        13:00:00          CIN   \n",
       "\n",
       "  visitorTeamAbbr  homeFinalScore  visitorFinalScore  \n",
       "0             BUF              10                 31  \n",
       "1              NO              26                 27  \n",
       "2             CLE              24                 26  \n",
       "3              SF              19                 10  \n",
       "4             PIT              20                 23  "
      ]
     },
     "execution_count": 62,
     "metadata": {},
     "output_type": "execute_result"
    }
   ],
   "source": [
    "games_df.head()"
   ]
  },
  {
   "cell_type": "markdown",
   "metadata": {},
   "source": [
    "How many seasons are stored in this data?"
   ]
  },
  {
   "cell_type": "code",
   "execution_count": 66,
   "metadata": {},
   "outputs": [
    {
     "data": {
      "text/plain": [
       "array([2022])"
      ]
     },
     "execution_count": 66,
     "metadata": {},
     "output_type": "execute_result"
    }
   ],
   "source": [
    "games_df['season'].unique()"
   ]
  },
  {
   "cell_type": "code",
   "execution_count": 68,
   "metadata": {},
   "outputs": [
    {
     "data": {
      "text/plain": [
       "array([1, 2, 3, 4, 5, 6, 7, 8, 9])"
      ]
     },
     "execution_count": 68,
     "metadata": {},
     "output_type": "execute_result"
    }
   ],
   "source": [
    "games_df['week'].unique()"
   ]
  },
  {
   "cell_type": "markdown",
   "metadata": {},
   "source": [
    "It seems that only 2022 seasons data are stored with 9 weeks."
   ]
  },
  {
   "cell_type": "markdown",
   "metadata": {},
   "source": [
    "Which team has the highest wins?"
   ]
  },
  {
   "cell_type": "markdown",
   "metadata": {},
   "source": [
    "### Plays"
   ]
  },
  {
   "cell_type": "code",
   "execution_count": null,
   "metadata": {},
   "outputs": [],
   "source": [
    "plays_df = pd.read_csv('./nfl-big-data-bowl-2025/plays.csv')"
   ]
  }
 ],
 "metadata": {
  "kernelspec": {
   "display_name": "base",
   "language": "python",
   "name": "python3"
  },
  "language_info": {
   "codemirror_mode": {
    "name": "ipython",
    "version": 3
   },
   "file_extension": ".py",
   "mimetype": "text/x-python",
   "name": "python",
   "nbconvert_exporter": "python",
   "pygments_lexer": "ipython3",
   "version": "3.12.4"
  }
 },
 "nbformat": 4,
 "nbformat_minor": 2
}
